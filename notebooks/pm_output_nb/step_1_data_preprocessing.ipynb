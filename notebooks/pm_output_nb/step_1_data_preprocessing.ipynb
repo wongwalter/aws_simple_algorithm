{
 "cells": [
  {
   "cell_type": "markdown",
   "id": "010a51c5",
   "metadata": {
    "papermill": {
     "duration": null,
     "end_time": null,
     "exception": null,
     "start_time": null,
     "status": "completed"
    },
    "tags": []
   },
   "source": [
    "# Objective\n",
    "\n",
    "Execute data preprocessing for further analysis.\n",
    "\n",
    "1. We will analyze only Linux machines, thus, we can remove all other instances (e.g. Windows) in the pricing list.\n",
    "2. Filter out unnecessary columns, remove unnecessary timezones, convert to correct types."
   ]
  },
  {
   "cell_type": "markdown",
   "id": "ab2df853",
   "metadata": {
    "papermill": {
     "duration": null,
     "end_time": null,
     "exception": null,
     "start_time": null,
     "status": "completed"
    },
    "tags": []
   },
   "source": [
    "# Code"
   ]
  },
  {
   "cell_type": "markdown",
   "id": "4d2264d7",
   "metadata": {
    "papermill": {
     "duration": null,
     "end_time": null,
     "exception": null,
     "start_time": null,
     "status": "completed"
    },
    "tags": []
   },
   "source": [
    "## Load libs"
   ]
  },
  {
   "cell_type": "code",
   "execution_count": null,
   "id": "ab587c01",
   "metadata": {
    "ExecuteTime": {
     "end_time": "2021-09-15T19:44:08.326771Z",
     "start_time": "2021-09-15T19:44:07.510907Z"
    },
    "papermill": {
     "duration": null,
     "end_time": null,
     "exception": null,
     "start_time": null,
     "status": "completed"
    },
    "tags": []
   },
   "outputs": [],
   "source": [
    "import os\n",
    "import pandas as pd"
   ]
  },
  {
   "cell_type": "markdown",
   "id": "7f1b558f",
   "metadata": {
    "papermill": {
     "duration": null,
     "end_time": null,
     "exception": null,
     "start_time": null,
     "status": "completed"
    },
    "tags": []
   },
   "source": [
    "## Input params\n",
    "\n",
    "This section is necessary if the notebook is run alone, i.e., without parameter injection, e.g., papermill."
   ]
  },
  {
   "cell_type": "code",
   "execution_count": null,
   "id": "548d8e99",
   "metadata": {
    "ExecuteTime": {
     "end_time": "2021-09-15T12:28:46.682556Z",
     "start_time": "2021-09-15T12:28:46.680173Z"
    },
    "papermill": {
     "duration": null,
     "end_time": null,
     "exception": null,
     "start_time": null,
     "status": "completed"
    },
    "tags": []
   },
   "outputs": [],
   "source": [
    "compression = 'zip'\n",
    "\n",
    "raw_dir = '../data/raw'\n",
    "in_fname = 'aws_pricing_sample.csv.zip'\n",
    "\n",
    "interim_dir = '../data/interim'\n",
    "out_fname = 'step_1_aws_filtered_sample.csv.zip'"
   ]
  },
  {
   "cell_type": "code",
   "execution_count": null,
   "id": "89344139",
   "metadata": {
    "ExecuteTime": {
     "end_time": "2021-09-15T12:28:46.685941Z",
     "start_time": "2021-09-15T12:28:46.684083Z"
    },
    "papermill": {
     "duration": null,
     "end_time": null,
     "exception": null,
     "start_time": null,
     "status": "completed"
    },
    "tags": [
     "parameters"
    ]
   },
   "outputs": [],
   "source": [
    "# Papermill parameters injection ... do not delete!"
   ]
  },
  {
   "cell_type": "code",
   "execution_count": null,
   "id": "eaa86b38",
   "metadata": {
    "papermill": {
     "duration": null,
     "end_time": null,
     "exception": null,
     "start_time": null,
     "status": "completed"
    },
    "tags": [
     "injected-parameters"
    ]
   },
   "outputs": [],
   "source": [
    "# Parameters\n",
    "raw_dir = \"../data/raw\"\n",
    "interim_dir = \"../data/interim\"\n",
    "processed_dir = \"../data/processed\"\n",
    "report_dir = \"../reports\"\n",
    "compression = \"zip\"\n",
    "nb_name = \"step_1_data_preprocessing.ipynb\"\n",
    "in_fname = \"aws_pricing_sample.csv.zip\"\n",
    "out_fname = \"step_1_aws_filtered_sample.csv.zip\"\n"
   ]
  },
  {
   "cell_type": "markdown",
   "id": "b81c3017",
   "metadata": {
    "papermill": {
     "duration": null,
     "end_time": null,
     "exception": null,
     "start_time": null,
     "status": "completed"
    },
    "tags": []
   },
   "source": [
    "## Load data\n",
    "\n",
    "- Check for data type: `Timestamp` needs to be loaded as datetime for future filtering"
   ]
  },
  {
   "cell_type": "code",
   "execution_count": null,
   "id": "67ae33f2",
   "metadata": {
    "ExecuteTime": {
     "end_time": "2021-09-15T12:29:08.285134Z",
     "start_time": "2021-09-15T12:28:46.687586Z"
    },
    "papermill": {
     "duration": null,
     "end_time": null,
     "exception": null,
     "start_time": null,
     "status": "completed"
    },
    "tags": []
   },
   "outputs": [],
   "source": [
    "# check if file exists\n",
    "filename = f'{raw_dir}/{in_fname}'\n",
    "\n",
    "if not os.path.exists(filename):\n",
    "    raise IOError(f'File \"{filename}\" not found error!')\n",
    "\n",
    "data = pd.read_csv(f'{raw_dir}/{in_fname}', \n",
    "                   parse_dates=['Timestamp'],\n",
    "                   compression=compression, \n",
    "                   index_col=0)\n",
    "\n",
    "print(data.dtypes)\n",
    "print(data.shape)\n",
    "data.head()"
   ]
  },
  {
   "cell_type": "markdown",
   "id": "00db4744",
   "metadata": {
    "papermill": {
     "duration": null,
     "end_time": null,
     "exception": null,
     "start_time": null,
     "status": "completed"
    },
    "tags": []
   },
   "source": [
    "## Data Prep\n",
    "\n",
    "- filter only for `Linux/Unix` machines;\n",
    "- remove column `ProductDescription` as it will have one unique value;\n",
    "- order dataframe ascending (for timeline comparison later on);\n",
    "- remove timezone value from `Timestamp` as we won't use it here;\n",
    "- returning to a new variable to keep idempotency;"
   ]
  },
  {
   "cell_type": "code",
   "execution_count": null,
   "id": "edd09f56",
   "metadata": {
    "ExecuteTime": {
     "end_time": "2021-09-15T12:29:08.701761Z",
     "start_time": "2021-09-15T12:29:08.286850Z"
    },
    "papermill": {
     "duration": null,
     "end_time": null,
     "exception": null,
     "start_time": null,
     "status": "completed"
    },
    "tags": []
   },
   "outputs": [],
   "source": [
    "df = data.query('ProductDescription == \"Linux/UNIX\"')\\\n",
    "         .drop('ProductDescription', axis=1)\\\n",
    "         .sort_values(by='Timestamp', ascending=True)\\\n",
    "         .reset_index(drop=True)\n",
    "\n",
    "df['Timestamp'] = df['Timestamp'].dt.tz_localize(None)\n",
    "print(df.shape)\n",
    "df.head()"
   ]
  },
  {
   "cell_type": "markdown",
   "id": "753bbd3c",
   "metadata": {
    "ExecuteTime": {
     "end_time": "2021-09-13T11:25:04.138103Z",
     "start_time": "2021-09-13T11:25:04.131095Z"
    },
    "papermill": {
     "duration": null,
     "end_time": null,
     "exception": null,
     "start_time": null,
     "status": "completed"
    },
    "tags": []
   },
   "source": [
    "## Create output file\n",
    "\n",
    "Save parsed file in folder `interim`."
   ]
  },
  {
   "cell_type": "code",
   "execution_count": null,
   "id": "b2f238e2",
   "metadata": {
    "ExecuteTime": {
     "end_time": "2021-09-15T12:29:17.407888Z",
     "start_time": "2021-09-15T12:29:08.703557Z"
    },
    "papermill": {
     "duration": null,
     "end_time": null,
     "exception": null,
     "start_time": null,
     "status": "completed"
    },
    "tags": []
   },
   "outputs": [],
   "source": [
    "df.to_csv(f'{interim_dir}/{out_fname}', \n",
    "          compression=compression)"
   ]
  },
  {
   "cell_type": "code",
   "execution_count": null,
   "id": "699cdebb",
   "metadata": {
    "papermill": {
     "duration": null,
     "end_time": null,
     "exception": null,
     "start_time": null,
     "status": "completed"
    },
    "tags": []
   },
   "outputs": [],
   "source": []
  }
 ],
 "metadata": {
  "celltoolbar": "Tags",
  "kernelspec": {
   "display_name": "Python 3",
   "language": "python",
   "name": "python3"
  },
  "language_info": {
   "codemirror_mode": {
    "name": "ipython",
    "version": 3
   },
   "file_extension": ".py",
   "mimetype": "text/x-python",
   "name": "python",
   "nbconvert_exporter": "python",
   "pygments_lexer": "ipython3",
   "version": "3.7.10"
  },
  "papermill": {
   "default_parameters": {},
   "duration": 0.019344,
   "end_time": "2021-09-16T07:22:17.199603",
   "environment_variables": {},
   "exception": null,
   "input_path": "step_1_data_preprocessing.ipynb",
   "output_path": "pm_output_nb/step_1_data_preprocessing.ipynb",
   "parameters": {
    "compression": "zip",
    "in_fname": "aws_pricing_sample.csv.zip",
    "interim_dir": "../data/interim",
    "nb_name": "step_1_data_preprocessing.ipynb",
    "out_fname": "step_1_aws_filtered_sample.csv.zip",
    "processed_dir": "../data/processed",
    "raw_dir": "../data/raw",
    "report_dir": "../reports"
   },
   "start_time": "2021-09-16T07:22:17.180259",
   "version": "2.3.3"
  },
  "toc": {
   "base_numbering": 1,
   "nav_menu": {},
   "number_sections": true,
   "sideBar": true,
   "skip_h1_title": false,
   "title_cell": "Table of Contents",
   "title_sidebar": "Contents",
   "toc_cell": false,
   "toc_position": {},
   "toc_section_display": true,
   "toc_window_display": false
  }
 },
 "nbformat": 4,
 "nbformat_minor": 5
}