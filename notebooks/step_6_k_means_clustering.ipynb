{
 "cells": [
  {
   "cell_type": "markdown",
   "id": "009a8def",
   "metadata": {},
   "source": [
    "# Objective\n",
    "\n",
    "The objective is to cluster the similar spot instances together. Thus, when the user needs to get another spot instance, he can select one from a pool where the price changes and update intervals are similar."
   ]
  },
  {
   "cell_type": "markdown",
   "id": "9606864a",
   "metadata": {},
   "source": [
    "# Code"
   ]
  },
  {
   "cell_type": "markdown",
   "id": "c094d0aa",
   "metadata": {},
   "source": [
    "## Load libs"
   ]
  },
  {
   "cell_type": "code",
   "execution_count": null,
   "id": "0daa8223",
   "metadata": {
    "ExecuteTime": {
     "end_time": "2021-09-15T18:39:10.541596Z",
     "start_time": "2021-09-15T18:39:08.822037Z"
    }
   },
   "outputs": [],
   "source": [
    "import sys\n",
    "sys.path.append('..')\n",
    "\n",
    "import random\n",
    "import pickle\n",
    "import pandas as pd\n",
    "import matplotlib.pyplot as plt\n",
    "%matplotlib inline\n",
    "\n",
    "from sklearn.preprocessing import StandardScaler\n",
    "from sklearn.cluster import KMeans"
   ]
  },
  {
   "cell_type": "markdown",
   "id": "9c7870f3",
   "metadata": {},
   "source": [
    "## Input params"
   ]
  },
  {
   "cell_type": "code",
   "execution_count": null,
   "id": "54aa9978",
   "metadata": {
    "ExecuteTime": {
     "end_time": "2021-09-15T18:39:10.546224Z",
     "start_time": "2021-09-15T18:39:10.543797Z"
    }
   },
   "outputs": [],
   "source": [
    "compression = 'zip'\n",
    "\n",
    "models_dir = '../models'\n",
    "processed_dir = '../data/processed'\n",
    "\n",
    "in_fname_pricing = 'step_5_features_pricing_var.csv.zip'\n",
    "in_fname_updist = 'step_5_features_updist.csv.zip'\n",
    "\n",
    "out_fname = 'step_7_clustered_features.csv.zip'"
   ]
  },
  {
   "cell_type": "code",
   "execution_count": null,
   "id": "ea60de4b",
   "metadata": {
    "ExecuteTime": {
     "end_time": "2021-09-15T18:39:10.550258Z",
     "start_time": "2021-09-15T18:39:10.548001Z"
    },
    "tags": [
     "parameters"
    ]
   },
   "outputs": [],
   "source": [
    "# Papermill parameters injection ... do not delete!"
   ]
  },
  {
   "cell_type": "markdown",
   "id": "bd3ee93a",
   "metadata": {},
   "source": [
    "## Load data"
   ]
  },
  {
   "cell_type": "code",
   "execution_count": null,
   "id": "41bc52e2",
   "metadata": {
    "ExecuteTime": {
     "end_time": "2021-09-15T18:39:10.590577Z",
     "start_time": "2021-09-15T18:39:10.551826Z"
    }
   },
   "outputs": [],
   "source": [
    "# Pricing info\n",
    "file = f'{processed_dir}/{in_fname_pricing}'\n",
    "pricing_df = pd.read_csv(file, \n",
    "                   compression='zip', \n",
    "                   index_col=0)\\\n",
    "               .T\\\n",
    "               .add_prefix('price_')\n",
    "\n",
    "print(pricing_df.shape)\n",
    "pricing_df.head()"
   ]
  },
  {
   "cell_type": "code",
   "execution_count": null,
   "id": "7f94c464",
   "metadata": {
    "ExecuteTime": {
     "end_time": "2021-09-15T18:39:10.617930Z",
     "start_time": "2021-09-15T18:39:10.591992Z"
    }
   },
   "outputs": [],
   "source": [
    "# Update distribution info\n",
    "file = f'{processed_dir}/{in_fname_updist}'\n",
    "updist_df = pd.read_csv(file, \n",
    "                        compression=compression, \n",
    "                        index_col=0)\\\n",
    "              .T\\\n",
    "              .add_prefix('updist_')\n",
    "\n",
    "print(updist_df.shape)\n",
    "updist_df.head()"
   ]
  },
  {
   "cell_type": "code",
   "execution_count": null,
   "id": "8c823194",
   "metadata": {
    "ExecuteTime": {
     "end_time": "2021-09-15T18:39:10.637583Z",
     "start_time": "2021-09-15T18:39:10.620986Z"
    }
   },
   "outputs": [],
   "source": [
    "# Perform a inner join with the updist df\n",
    "# Results in a feature df\n",
    "fdf = updist_df.join(pricing_df)\n",
    "fdf.head()"
   ]
  },
  {
   "cell_type": "markdown",
   "id": "637fd9e3",
   "metadata": {},
   "source": [
    "## Data normalization\n",
    "\n",
    "We need to normalize the data as they are in different scales and it may bias the clustering algorithm towards bigger numbers."
   ]
  },
  {
   "cell_type": "code",
   "execution_count": null,
   "id": "f2503fbb",
   "metadata": {
    "ExecuteTime": {
     "end_time": "2021-09-15T18:39:10.646787Z",
     "start_time": "2021-09-15T18:39:10.639787Z"
    }
   },
   "outputs": [],
   "source": [
    "scaler = StandardScaler()\n",
    "scaled_fdf = scaler.fit_transform(fdf)\n",
    "print(scaled_fdf)"
   ]
  },
  {
   "cell_type": "code",
   "execution_count": null,
   "id": "56d6c85e",
   "metadata": {
    "ExecuteTime": {
     "end_time": "2021-09-15T18:39:10.666694Z",
     "start_time": "2021-09-15T18:39:10.648476Z"
    }
   },
   "outputs": [],
   "source": [
    "pd.DataFrame(scaled_fdf)"
   ]
  },
  {
   "cell_type": "code",
   "execution_count": null,
   "id": "8a142319",
   "metadata": {
    "ExecuteTime": {
     "end_time": "2021-09-15T18:39:12.921725Z",
     "start_time": "2021-09-15T18:39:10.668181Z"
    }
   },
   "outputs": [],
   "source": [
    "inertia = []\n",
    "for i in range(1, 40):\n",
    "    kmeans = KMeans(n_clusters = i, init='k-means++', random_state=42)\n",
    "    kmeans.fit(scaled_fdf)\n",
    "    inertia.append(kmeans.inertia_)"
   ]
  },
  {
   "cell_type": "code",
   "execution_count": null,
   "id": "5f79e038",
   "metadata": {
    "ExecuteTime": {
     "end_time": "2021-09-15T18:39:13.073911Z",
     "start_time": "2021-09-15T18:39:12.923900Z"
    }
   },
   "outputs": [],
   "source": [
    "plt.plot(inertia)\n",
    "plt.xlabel('Number of clusters')\n",
    "plt.ylabel('Inertia')\n",
    "plt.title('Number of cluster when it becomes linear = 13')"
   ]
  },
  {
   "cell_type": "code",
   "execution_count": null,
   "id": "359832c0",
   "metadata": {
    "ExecuteTime": {
     "end_time": "2021-09-15T18:39:13.130733Z",
     "start_time": "2021-09-15T18:39:13.075915Z"
    }
   },
   "outputs": [],
   "source": [
    "kmeans = KMeans(n_clusters = 13, init='k-means++', random_state=42)\n",
    "kmeans.fit(scaled_fdf)\n",
    "cluster_num = kmeans.predict(scaled_fdf)\n",
    "cluster_num"
   ]
  },
  {
   "cell_type": "code",
   "execution_count": null,
   "id": "9a51b54d",
   "metadata": {
    "ExecuteTime": {
     "end_time": "2021-09-15T18:39:13.135792Z",
     "start_time": "2021-09-15T18:39:13.132876Z"
    }
   },
   "outputs": [],
   "source": [
    "with open(f\"{models_dir}/kmeans_model.pkl\", \"wb\") as f:\n",
    "    pickle.dump(kmeans, f)"
   ]
  },
  {
   "cell_type": "code",
   "execution_count": null,
   "id": "2df01595",
   "metadata": {
    "ExecuteTime": {
     "end_time": "2021-09-15T18:39:13.153984Z",
     "start_time": "2021-09-15T18:39:13.137200Z"
    }
   },
   "outputs": [],
   "source": [
    "fdf['cluster_num'] = cluster_num\n",
    "fdf.head()"
   ]
  },
  {
   "cell_type": "code",
   "execution_count": null,
   "id": "9434d611",
   "metadata": {
    "ExecuteTime": {
     "end_time": "2021-09-15T18:39:13.164575Z",
     "start_time": "2021-09-15T18:39:13.155336Z"
    }
   },
   "outputs": [],
   "source": [
    "fdf.to_csv(f'{processed_dir}/{out_fname}', compression=compression)"
   ]
  }
 ],
 "metadata": {
  "kernelspec": {
   "display_name": "Python 3",
   "language": "python",
   "name": "python3"
  },
  "language_info": {
   "codemirror_mode": {
    "name": "ipython",
    "version": 3
   },
   "file_extension": ".py",
   "mimetype": "text/x-python",
   "name": "python",
   "nbconvert_exporter": "python",
   "pygments_lexer": "ipython3",
   "version": "3.7.10"
  },
  "toc": {
   "base_numbering": 1,
   "nav_menu": {},
   "number_sections": true,
   "sideBar": true,
   "skip_h1_title": false,
   "title_cell": "Table of Contents",
   "title_sidebar": "Contents",
   "toc_cell": false,
   "toc_position": {},
   "toc_section_display": true,
   "toc_window_display": false
  }
 },
 "nbformat": 4,
 "nbformat_minor": 5
}
