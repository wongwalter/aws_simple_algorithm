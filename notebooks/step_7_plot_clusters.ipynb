{
 "cells": [
  {
   "cell_type": "markdown",
   "id": "009a8def",
   "metadata": {},
   "source": [
    "# Objective\n",
    "\n",
    "This notebook clusters together spot instances that behave similarly. The main goal is to know where to migrate when a spot instance is going to be evicted."
   ]
  },
  {
   "cell_type": "markdown",
   "id": "9606864a",
   "metadata": {},
   "source": [
    "# Code"
   ]
  },
  {
   "cell_type": "markdown",
   "id": "c094d0aa",
   "metadata": {},
   "source": [
    "## Load libs"
   ]
  },
  {
   "cell_type": "code",
   "execution_count": null,
   "id": "0daa8223",
   "metadata": {
    "ExecuteTime": {
     "end_time": "2021-09-15T18:52:26.810885Z",
     "start_time": "2021-09-15T18:52:25.954038Z"
    }
   },
   "outputs": [],
   "source": [
    "import pandas as pd\n",
    "import matplotlib.pyplot as plt\n",
    "%matplotlib inline\n",
    "\n",
    "import plotly\n",
    "import plotly.express as px\n",
    "import plotly.graph_objects as go\n",
    "from plotly.subplots import make_subplots"
   ]
  },
  {
   "cell_type": "markdown",
   "id": "9c7870f3",
   "metadata": {},
   "source": [
    "## Input params"
   ]
  },
  {
   "cell_type": "code",
   "execution_count": null,
   "id": "54aa9978",
   "metadata": {
    "ExecuteTime": {
     "end_time": "2021-09-15T18:52:26.815706Z",
     "start_time": "2021-09-15T18:52:26.812700Z"
    }
   },
   "outputs": [],
   "source": [
    "compression = 'zip'\n",
    "processed_dir = '../data/processed'\n",
    "in_fname = 'step_7_clustered_features.csv.zip'\n",
    "\n",
    "report_dir = '../reports/figures'\n",
    "out_fname_cluster = 'plot_step_8_cluster_3d.html'\n",
    "out_fname_bar = 'plot_step_8_barplot.html'"
   ]
  },
  {
   "cell_type": "code",
   "execution_count": null,
   "id": "0c12d4a6",
   "metadata": {
    "tags": [
     "parameters"
    ]
   },
   "outputs": [],
   "source": [
    "# Papermill parameters injection ... do not delete!"
   ]
  },
  {
   "cell_type": "markdown",
   "id": "bd3ee93a",
   "metadata": {},
   "source": [
    "## Load data"
   ]
  },
  {
   "cell_type": "code",
   "execution_count": null,
   "id": "41bc52e2",
   "metadata": {
    "ExecuteTime": {
     "end_time": "2021-09-15T18:52:26.864924Z",
     "start_time": "2021-09-15T18:52:26.817512Z"
    }
   },
   "outputs": [],
   "source": [
    "# Pricing info\n",
    "file = f'{processed_dir}/{in_fname}'\n",
    "cluster_df = pd.read_csv(file, \n",
    "                   compression=compression, \n",
    "                   index_col=0)\n",
    "\n",
    "print(cluster_df.shape)\n",
    "cluster_df.head()"
   ]
  },
  {
   "cell_type": "markdown",
   "id": "5af645ba",
   "metadata": {},
   "source": [
    "## Plot 3D\n",
    "\n",
    "The goal is to see the relationship of clusters regarding the price update interval, average pricing, and the minimum update interval (which is the time that a spot instance will be evicted)"
   ]
  },
  {
   "cell_type": "code",
   "execution_count": null,
   "id": "5ada4251",
   "metadata": {
    "ExecuteTime": {
     "end_time": "2021-09-15T18:52:27.534597Z",
     "start_time": "2021-09-15T18:52:26.866916Z"
    }
   },
   "outputs": [],
   "source": [
    "plot_df = cluster_df.reset_index().rename(columns={'index': 'instance'})\n",
    "\n",
    "fig = px.scatter_3d(plot_df,\n",
    "                    x=\"updist_mean\",\n",
    "                    y=\"updist_std\",\n",
    "                    z=\"updist_min\",\n",
    "                    color='cluster_num',\n",
    "                    hover_data=[\"instance\",\n",
    "                                \"updist_mean\",\n",
    "                                \"price_std\",\n",
    "                                \"updist_min\"],\n",
    "                    )\n",
    "\n",
    "fig.update_layout(margin=dict(l=0, r=0, b=0, t=0))\n",
    "fig.show()\n",
    "plotly.offline.plot(fig, filename=f'{report_dir}/{out_fname_cluster}')"
   ]
  },
  {
   "cell_type": "markdown",
   "id": "26513fa8",
   "metadata": {},
   "source": [
    "## Clustering instances\n",
    "\n",
    "The goal is to see what are the main characteristics of each group."
   ]
  },
  {
   "cell_type": "code",
   "execution_count": null,
   "id": "3e6ef0b0",
   "metadata": {
    "ExecuteTime": {
     "end_time": "2021-09-15T18:52:27.548835Z",
     "start_time": "2021-09-15T18:52:27.537165Z"
    }
   },
   "outputs": [],
   "source": [
    "# Calculate the size of each group\n",
    "cdf2 = cluster_df[\"cluster_num\"]\\\n",
    "        .value_counts()\\\n",
    "        .reset_index()\\\n",
    "        .rename(columns={'index':'cluster_group', 'cluster_num':'quantity'})\n",
    "cdf2"
   ]
  },
  {
   "cell_type": "code",
   "execution_count": null,
   "id": "8bf75b7a",
   "metadata": {
    "ExecuteTime": {
     "end_time": "2021-09-15T18:52:27.918899Z",
     "start_time": "2021-09-15T18:52:27.550752Z"
    }
   },
   "outputs": [],
   "source": [
    "# Calculate the statistics of each group\n",
    "\n",
    "grp = cluster_df.groupby('cluster_num').describe().stack(level=0).iloc[:, [4, 6]].unstack(level=1)\n",
    "grp.columns = grp.columns.swaplevel(0, 1)\n",
    "grp.columns = grp.columns.map('|'.join).str.strip('|')\n",
    "grp = grp.round(decimals=2)\n",
    "grp"
   ]
  },
  {
   "cell_type": "code",
   "execution_count": null,
   "id": "67bda626",
   "metadata": {
    "ExecuteTime": {
     "end_time": "2021-09-15T18:52:27.947127Z",
     "start_time": "2021-09-15T18:52:27.922849Z"
    }
   },
   "outputs": [],
   "source": [
    "# Group together the statistics with the group information\n",
    "m1 = cdf2.merge(grp.reset_index(), left_on='cluster_group', right_on='cluster_num')\n",
    "m1.head()"
   ]
  },
  {
   "cell_type": "code",
   "execution_count": null,
   "id": "d5d96d3f",
   "metadata": {
    "ExecuteTime": {
     "end_time": "2021-09-15T18:52:28.231303Z",
     "start_time": "2021-09-15T18:52:27.949189Z"
    }
   },
   "outputs": [],
   "source": [
    "# plot it\n",
    "fig = px.bar(m1, x=\"cluster_group\", \n",
    "             y=\"quantity\",\n",
    "             color = \"cluster_group\",\n",
    "             hover_data = ['price_count|min', \n",
    "                           'price_count|max', \n",
    "                           'updist_mean|min', \n",
    "                           'updist_max|max', \n",
    "                           'price_min|min', \n",
    "                           'price_max|max'])\n",
    "\n",
    "fig.update_layout(xaxis = dict(\n",
    "        tickmode = 'linear',\n",
    "        tick0 = 1,\n",
    "        dtick = 1),\n",
    "                 yaxis = dict(\n",
    "        tickmode = 'linear',\n",
    "        tick0 = 10,\n",
    "        dtick = 10))\n",
    "\n",
    "fig.show()\n",
    "plotly.offline.plot(fig, filename=f'{report_dir}/{out_fname_bar}')"
   ]
  },
  {
   "cell_type": "code",
   "execution_count": null,
   "id": "e546ef16",
   "metadata": {},
   "outputs": [],
   "source": []
  }
 ],
 "metadata": {
  "kernelspec": {
   "display_name": "Python 3",
   "language": "python",
   "name": "python3"
  },
  "language_info": {
   "codemirror_mode": {
    "name": "ipython",
    "version": 3
   },
   "file_extension": ".py",
   "mimetype": "text/x-python",
   "name": "python",
   "nbconvert_exporter": "python",
   "pygments_lexer": "ipython3",
   "version": "3.7.10"
  },
  "toc": {
   "base_numbering": 1,
   "nav_menu": {},
   "number_sections": true,
   "sideBar": true,
   "skip_h1_title": false,
   "title_cell": "Table of Contents",
   "title_sidebar": "Contents",
   "toc_cell": false,
   "toc_position": {},
   "toc_section_display": true,
   "toc_window_display": false
  }
 },
 "nbformat": 4,
 "nbformat_minor": 5
}
