{
 "cells": [
  {
   "cell_type": "markdown",
   "id": "2e30f97e",
   "metadata": {},
   "source": [
    "# Objective\n",
    "\n",
    "Execute a quick profiling on the data to give us some general idea of the instance and price distribution."
   ]
  },
  {
   "cell_type": "markdown",
   "id": "1eb068d2",
   "metadata": {},
   "source": [
    "# Code"
   ]
  },
  {
   "cell_type": "markdown",
   "id": "cf78ff29",
   "metadata": {},
   "source": [
    "## Load libs"
   ]
  },
  {
   "cell_type": "code",
   "execution_count": null,
   "id": "2a9f0065",
   "metadata": {
    "ExecuteTime": {
     "end_time": "2021-09-15T17:38:41.690268Z",
     "start_time": "2021-09-15T17:38:41.688389Z"
    }
   },
   "outputs": [],
   "source": [
    "import pandas as pd\n",
    "from pandas_profiling import ProfileReport"
   ]
  },
  {
   "cell_type": "markdown",
   "id": "0b005b95",
   "metadata": {},
   "source": [
    "## Input params"
   ]
  },
  {
   "cell_type": "code",
   "execution_count": null,
   "id": "b2d0d021",
   "metadata": {
    "ExecuteTime": {
     "end_time": "2021-09-15T17:38:41.694254Z",
     "start_time": "2021-09-15T17:38:41.692164Z"
    }
   },
   "outputs": [],
   "source": [
    "interim_dir = '../data/interim'\n",
    "in_fname = 'step_1_aws_filtered_sample.csv.zip'\n",
    "compression = 'zip'\n",
    "\n",
    "report_dir = '../reports/pandas_profiling'\n",
    "out_fname = 'pandas_profile_aws_pricing.html'"
   ]
  },
  {
   "cell_type": "code",
   "execution_count": null,
   "id": "ff080461",
   "metadata": {
    "ExecuteTime": {
     "end_time": "2021-09-15T17:38:41.697838Z",
     "start_time": "2021-09-15T17:38:41.696029Z"
    },
    "tags": [
     "parameters"
    ]
   },
   "outputs": [],
   "source": [
    "# Papermill parameters injection ... do not delete!"
   ]
  },
  {
   "cell_type": "markdown",
   "id": "dae6d1ec",
   "metadata": {},
   "source": [
    "## Load data"
   ]
  },
  {
   "cell_type": "code",
   "execution_count": null,
   "id": "bc4da571",
   "metadata": {
    "ExecuteTime": {
     "end_time": "2021-09-15T17:38:44.416913Z",
     "start_time": "2021-09-15T17:38:41.699300Z"
    }
   },
   "outputs": [],
   "source": [
    "data = pd.read_csv(f'{interim_dir}/{in_fname}', \n",
    "                   parse_dates=['Timestamp'],\n",
    "                   compression=compression, \n",
    "                   index_col=0)\n",
    "\n",
    "print(data.dtypes)\n",
    "print(data.shape)\n",
    "data.head()"
   ]
  },
  {
   "cell_type": "markdown",
   "id": "332fb950",
   "metadata": {},
   "source": [
    "## Load Pandas Profiler\n",
    "\n",
    "Execute pandas profiler and place it in the report folder"
   ]
  },
  {
   "cell_type": "code",
   "execution_count": null,
   "id": "574d306b",
   "metadata": {
    "ExecuteTime": {
     "end_time": "2021-09-15T17:39:33.986452Z",
     "start_time": "2021-09-15T17:38:44.419197Z"
    }
   },
   "outputs": [],
   "source": [
    "report = ProfileReport(data)\n",
    "report.to_file(f'{report_dir}/{out_fname}')"
   ]
  },
  {
   "cell_type": "code",
   "execution_count": null,
   "id": "31c409a0",
   "metadata": {},
   "outputs": [],
   "source": []
  }
 ],
 "metadata": {
  "kernelspec": {
   "display_name": "Python 3",
   "language": "python",
   "name": "python3"
  },
  "language_info": {
   "codemirror_mode": {
    "name": "ipython",
    "version": 3
   },
   "file_extension": ".py",
   "mimetype": "text/x-python",
   "name": "python",
   "nbconvert_exporter": "python",
   "pygments_lexer": "ipython3",
   "version": "3.7.10"
  },
  "toc": {
   "base_numbering": 1,
   "nav_menu": {},
   "number_sections": true,
   "sideBar": true,
   "skip_h1_title": false,
   "title_cell": "Table of Contents",
   "title_sidebar": "Contents",
   "toc_cell": false,
   "toc_position": {},
   "toc_section_display": true,
   "toc_window_display": false
  }
 },
 "nbformat": 4,
 "nbformat_minor": 5
}
