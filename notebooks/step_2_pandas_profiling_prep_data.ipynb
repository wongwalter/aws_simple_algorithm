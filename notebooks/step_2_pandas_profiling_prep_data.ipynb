{
 "cells": [
  {
   "cell_type": "markdown",
   "id": "2e30f97e",
   "metadata": {},
   "source": [
    "# Objective\n",
    "\n",
    "Execute a quick profiling on the data to give us some general idea of the instance and price distribution."
   ]
  },
  {
   "cell_type": "markdown",
   "id": "1eb068d2",
   "metadata": {},
   "source": [
    "# Code"
   ]
  },
  {
   "cell_type": "markdown",
   "id": "cf78ff29",
   "metadata": {},
   "source": [
    "## Load libs"
   ]
  },
  {
   "cell_type": "code",
   "execution_count": 5,
   "id": "2a9f0065",
   "metadata": {
    "ExecuteTime": {
     "end_time": "2021-09-15T17:38:41.690268Z",
     "start_time": "2021-09-15T17:38:41.688389Z"
    }
   },
   "outputs": [],
   "source": [
    "import pandas as pd\n",
    "from pandas_profiling import ProfileReport"
   ]
  },
  {
   "cell_type": "markdown",
   "id": "0b005b95",
   "metadata": {},
   "source": [
    "## Input params"
   ]
  },
  {
   "cell_type": "code",
   "execution_count": 6,
   "id": "b2d0d021",
   "metadata": {
    "ExecuteTime": {
     "end_time": "2021-09-15T17:38:41.694254Z",
     "start_time": "2021-09-15T17:38:41.692164Z"
    }
   },
   "outputs": [],
   "source": [
    "interim_dir = '../data/interim'\n",
    "in_fname = 'step_1_aws_filtered_sample.csv.zip'\n",
    "compression = 'zip'\n",
    "\n",
    "report_dir = '../reports/pandas_profiling'\n",
    "out_fname = 'pandas_profile_aws_pricing.html'"
   ]
  },
  {
   "cell_type": "code",
   "execution_count": 7,
   "id": "ff080461",
   "metadata": {
    "ExecuteTime": {
     "end_time": "2021-09-15T17:38:41.697838Z",
     "start_time": "2021-09-15T17:38:41.696029Z"
    },
    "tags": [
     "parameters"
    ]
   },
   "outputs": [],
   "source": [
    "# Papermill parameters injection ... do not delete!"
   ]
  },
  {
   "cell_type": "markdown",
   "id": "dae6d1ec",
   "metadata": {},
   "source": [
    "## Load data"
   ]
  },
  {
   "cell_type": "code",
   "execution_count": 8,
   "id": "bc4da571",
   "metadata": {
    "ExecuteTime": {
     "end_time": "2021-09-15T17:38:44.416913Z",
     "start_time": "2021-09-15T17:38:41.699300Z"
    }
   },
   "outputs": [
    {
     "name": "stdout",
     "output_type": "stream",
     "text": [
      "Timestamp           datetime64[ns]\n",
      "AvailabilityZone            object\n",
      "InstanceType                object\n",
      "SpotPrice                  float64\n",
      "dtype: object\n",
      "(1666418, 4)\n"
     ]
    },
    {
     "name": "stderr",
     "output_type": "stream",
     "text": [
      "/Users/walterwong/opt/anaconda3/lib/python3.7/site-packages/numpy/lib/arraysetops.py:583: FutureWarning: elementwise comparison failed; returning scalar instead, but in the future will perform elementwise comparison\n",
      "  mask |= (ar1 == a)\n"
     ]
    },
    {
     "data": {
      "text/html": [
       "<div>\n",
       "<style scoped>\n",
       "    .dataframe tbody tr th:only-of-type {\n",
       "        vertical-align: middle;\n",
       "    }\n",
       "\n",
       "    .dataframe tbody tr th {\n",
       "        vertical-align: top;\n",
       "    }\n",
       "\n",
       "    .dataframe thead th {\n",
       "        text-align: right;\n",
       "    }\n",
       "</style>\n",
       "<table border=\"1\" class=\"dataframe\">\n",
       "  <thead>\n",
       "    <tr style=\"text-align: right;\">\n",
       "      <th></th>\n",
       "      <th>Timestamp</th>\n",
       "      <th>AvailabilityZone</th>\n",
       "      <th>InstanceType</th>\n",
       "      <th>SpotPrice</th>\n",
       "    </tr>\n",
       "  </thead>\n",
       "  <tbody>\n",
       "    <tr>\n",
       "      <th>0</th>\n",
       "      <td>2020-06-01 00:00:04</td>\n",
       "      <td>us-east-1f</td>\n",
       "      <td>r5d.large</td>\n",
       "      <td>0.0356</td>\n",
       "    </tr>\n",
       "    <tr>\n",
       "      <th>1</th>\n",
       "      <td>2020-06-01 00:00:04</td>\n",
       "      <td>us-east-1c</td>\n",
       "      <td>r5d.large</td>\n",
       "      <td>0.0356</td>\n",
       "    </tr>\n",
       "    <tr>\n",
       "      <th>2</th>\n",
       "      <td>2020-06-01 00:00:04</td>\n",
       "      <td>us-east-1d</td>\n",
       "      <td>r5d.large</td>\n",
       "      <td>0.0356</td>\n",
       "    </tr>\n",
       "    <tr>\n",
       "      <th>3</th>\n",
       "      <td>2020-06-01 00:00:04</td>\n",
       "      <td>us-east-1b</td>\n",
       "      <td>r5d.large</td>\n",
       "      <td>0.0356</td>\n",
       "    </tr>\n",
       "    <tr>\n",
       "      <th>4</th>\n",
       "      <td>2020-06-01 00:00:50</td>\n",
       "      <td>us-west-2c</td>\n",
       "      <td>r5.2xlarge</td>\n",
       "      <td>0.1560</td>\n",
       "    </tr>\n",
       "  </tbody>\n",
       "</table>\n",
       "</div>"
      ],
      "text/plain": [
       "            Timestamp AvailabilityZone InstanceType  SpotPrice\n",
       "0 2020-06-01 00:00:04       us-east-1f    r5d.large     0.0356\n",
       "1 2020-06-01 00:00:04       us-east-1c    r5d.large     0.0356\n",
       "2 2020-06-01 00:00:04       us-east-1d    r5d.large     0.0356\n",
       "3 2020-06-01 00:00:04       us-east-1b    r5d.large     0.0356\n",
       "4 2020-06-01 00:00:50       us-west-2c   r5.2xlarge     0.1560"
      ]
     },
     "execution_count": 8,
     "metadata": {},
     "output_type": "execute_result"
    }
   ],
   "source": [
    "data = pd.read_csv(f'{interim_dir}/{in_fname}', \n",
    "                   parse_dates=['Timestamp'],\n",
    "                   compression=compression, \n",
    "                   index_col=0)\n",
    "\n",
    "print(data.dtypes)\n",
    "print(data.shape)\n",
    "data.head()"
   ]
  },
  {
   "cell_type": "markdown",
   "id": "332fb950",
   "metadata": {},
   "source": [
    "## Load Pandas Profiler\n",
    "\n",
    "Execute pandas profiler and place it in the report folder"
   ]
  },
  {
   "cell_type": "code",
   "execution_count": 9,
   "id": "574d306b",
   "metadata": {
    "ExecuteTime": {
     "end_time": "2021-09-15T17:39:33.986452Z",
     "start_time": "2021-09-15T17:38:44.419197Z"
    }
   },
   "outputs": [
    {
     "data": {
      "application/vnd.jupyter.widget-view+json": {
       "model_id": "dbe7e262b4354e92873dd22574a221ec",
       "version_major": 2,
       "version_minor": 0
      },
      "text/plain": [
       "Summarize dataset:   0%|          | 0/18 [00:00<?, ?it/s]"
      ]
     },
     "metadata": {},
     "output_type": "display_data"
    },
    {
     "data": {
      "application/vnd.jupyter.widget-view+json": {
       "model_id": "dede384b25ae442090c0cbb4421e39bc",
       "version_major": 2,
       "version_minor": 0
      },
      "text/plain": [
       "Generate report structure:   0%|          | 0/1 [00:00<?, ?it/s]"
      ]
     },
     "metadata": {},
     "output_type": "display_data"
    },
    {
     "name": "stderr",
     "output_type": "stream",
     "text": [
      "/Users/walterwong/opt/anaconda3/lib/python3.7/site-packages/pandas_profiling/visualisation/plot.py:154: MatplotlibDeprecationWarning: You are modifying the state of a globally registered colormap. In future versions, you will not be able to modify a registered colormap in-place. To remove this warning, you can make a copy of the colormap first. cmap = copy.copy(mpl.cm.get_cmap(\"RdBu\"))\n",
      "  cmap.set_bad(cmap_bad)\n"
     ]
    },
    {
     "data": {
      "application/vnd.jupyter.widget-view+json": {
       "model_id": "8a151e4bd53b48509e3756adc986972c",
       "version_major": 2,
       "version_minor": 0
      },
      "text/plain": [
       "Render HTML:   0%|          | 0/1 [00:00<?, ?it/s]"
      ]
     },
     "metadata": {},
     "output_type": "display_data"
    },
    {
     "data": {
      "application/vnd.jupyter.widget-view+json": {
       "model_id": "b9e7603f41874900a13edf6020dbf291",
       "version_major": 2,
       "version_minor": 0
      },
      "text/plain": [
       "Export report to file:   0%|          | 0/1 [00:00<?, ?it/s]"
      ]
     },
     "metadata": {},
     "output_type": "display_data"
    }
   ],
   "source": [
    "report = ProfileReport(data)\n",
    "report.to_file(f'{report_dir}/{out_fname}')"
   ]
  },
  {
   "cell_type": "code",
   "execution_count": null,
   "id": "31c409a0",
   "metadata": {},
   "outputs": [],
   "source": []
  }
 ],
 "metadata": {
  "celltoolbar": "Tags",
  "kernelspec": {
   "display_name": "Python 3",
   "language": "python",
   "name": "python3"
  },
  "language_info": {
   "codemirror_mode": {
    "name": "ipython",
    "version": 3
   },
   "file_extension": ".py",
   "mimetype": "text/x-python",
   "name": "python",
   "nbconvert_exporter": "python",
   "pygments_lexer": "ipython3",
   "version": "3.7.10"
  },
  "toc": {
   "base_numbering": 1,
   "nav_menu": {},
   "number_sections": true,
   "sideBar": true,
   "skip_h1_title": false,
   "title_cell": "Table of Contents",
   "title_sidebar": "Contents",
   "toc_cell": false,
   "toc_position": {},
   "toc_section_display": true,
   "toc_window_display": false
  }
 },
 "nbformat": 4,
 "nbformat_minor": 5
}
