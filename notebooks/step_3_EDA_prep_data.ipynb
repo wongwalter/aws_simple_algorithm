{
 "cells": [
  {
   "cell_type": "markdown",
   "id": "009a8def",
   "metadata": {},
   "source": [
    "# Objective\n",
    "\n",
    "Perform the exploratory data analysis (EDA) to find insights in the AWS pricing data"
   ]
  },
  {
   "cell_type": "markdown",
   "id": "9606864a",
   "metadata": {},
   "source": [
    "# Code"
   ]
  },
  {
   "cell_type": "markdown",
   "id": "c094d0aa",
   "metadata": {},
   "source": [
    "## Load libs"
   ]
  },
  {
   "cell_type": "code",
   "execution_count": null,
   "id": "0daa8223",
   "metadata": {
    "ExecuteTime": {
     "end_time": "2021-09-15T17:43:46.262977Z",
     "start_time": "2021-09-15T17:43:45.176872Z"
    }
   },
   "outputs": [],
   "source": [
    "import sys\n",
    "sys.path.append('..')\n",
    "\n",
    "import random\n",
    "import pandas as pd\n",
    "import matplotlib.pyplot as plt\n",
    "%matplotlib inline\n",
    "\n",
    "from src.data.helpers import load_aws_dataset"
   ]
  },
  {
   "cell_type": "markdown",
   "id": "9c7870f3",
   "metadata": {},
   "source": [
    "## Input params"
   ]
  },
  {
   "cell_type": "code",
   "execution_count": null,
   "id": "54aa9978",
   "metadata": {
    "ExecuteTime": {
     "end_time": "2021-09-15T17:43:46.267074Z",
     "start_time": "2021-09-15T17:43:46.265032Z"
    }
   },
   "outputs": [],
   "source": [
    "interim_dir = '../data/interim'\n",
    "in_fname = 'step_1_aws_filtered_sample.csv.zip'\n",
    "compression = 'zip'"
   ]
  },
  {
   "cell_type": "code",
   "execution_count": null,
   "id": "7d5499e5",
   "metadata": {
    "ExecuteTime": {
     "end_time": "2021-09-15T17:43:46.270631Z",
     "start_time": "2021-09-15T17:43:46.268617Z"
    },
    "tags": [
     "parameters"
    ]
   },
   "outputs": [],
   "source": [
    "# Papermill parameters injection ... do not delete!"
   ]
  },
  {
   "cell_type": "markdown",
   "id": "bd3ee93a",
   "metadata": {},
   "source": [
    "## Load data"
   ]
  },
  {
   "cell_type": "code",
   "execution_count": null,
   "id": "41bc52e2",
   "metadata": {
    "ExecuteTime": {
     "end_time": "2021-09-15T17:43:48.926189Z",
     "start_time": "2021-09-15T17:43:46.272242Z"
    }
   },
   "outputs": [],
   "source": [
    "file = f'{interim_dir}/{in_fname}'\n",
    "data = load_aws_dataset(file)\n",
    "print(data.shape)\n",
    "data.head()"
   ]
  },
  {
   "cell_type": "markdown",
   "id": "83d27b3b",
   "metadata": {},
   "source": [
    "## Data wrangling\n",
    "\n",
    "Let's find something interesting in the data!\n",
    "- Look for most volatile instances, i.e., with more price changes, thus to avoid them;\n",
    "- Least volatile instances;\n",
    "- Longer price update times;"
   ]
  },
  {
   "cell_type": "markdown",
   "id": "eb2419ee",
   "metadata": {},
   "source": [
    "### Data check-up for nulls and missing values\n",
    "\n",
    "Assumptions:\n",
    "\n",
    "- Considered region: us-east-1a (Virginia);\n",
    "- Check presence of null columns (i.e., there is no price change on that);"
   ]
  },
  {
   "cell_type": "code",
   "execution_count": null,
   "id": "ba53522d",
   "metadata": {
    "ExecuteTime": {
     "end_time": "2021-09-15T17:43:49.558670Z",
     "start_time": "2021-09-15T17:43:48.927696Z"
    }
   },
   "outputs": [],
   "source": [
    "%%time\n",
    "\n",
    "df = data.query('AvailabilityZone == \"us-east-1a\"')\\\n",
    "         .drop('AvailabilityZone', axis=1)\n",
    "\n",
    "print(df.shape)\n",
    "\n",
    "# Pivot table to change a wide format for the data. Thus, we can remove\n",
    "# instances that do not have any price update.\n",
    "# Dropping MultiIndex column 'SpotPrice' as there is no use for it.\n",
    "pvt = df.pivot_table(index=['Timestamp'], \n",
    "                     columns=['InstanceType'])\\\n",
    "        .droplevel(0, axis=1)\n",
    "\n",
    "pvt.head()"
   ]
  },
  {
   "cell_type": "code",
   "execution_count": null,
   "id": "7b3b32d4",
   "metadata": {
    "ExecuteTime": {
     "end_time": "2021-09-15T17:43:49.584790Z",
     "start_time": "2021-09-15T17:43:49.560680Z"
    }
   },
   "outputs": [],
   "source": [
    "# Checking if there is any column with only 'NaN'\n",
    "# Returns None, meaning that all \n",
    "pvt.isna().all(axis=0).loc[lambda x: x.isna()]"
   ]
  },
  {
   "cell_type": "code",
   "execution_count": null,
   "id": "3a8846dc",
   "metadata": {
    "ExecuteTime": {
     "end_time": "2021-09-15T17:43:49.593399Z",
     "start_time": "2021-09-15T17:43:49.588323Z"
    }
   },
   "outputs": [],
   "source": [
    "# Cross-check to see if this is correct. Getting a sample of confirm this\n",
    "# using instance 'a1.2xlarge'\n",
    "pvt['a1.2xlarge'].dropna().head()"
   ]
  },
  {
   "cell_type": "code",
   "execution_count": null,
   "id": "02557bb9",
   "metadata": {
    "ExecuteTime": {
     "end_time": "2021-09-15T17:43:49.603187Z",
     "start_time": "2021-09-15T17:43:49.595381Z"
    }
   },
   "outputs": [],
   "source": [
    "# Picking random instance and checking if the values are not null\n",
    "# just for sanity check.\n",
    "for i in range(5):\n",
    "    rand_instance = random.randint(0, len(pvt.columns))\n",
    "    tmp = pvt.iloc[rand_instance].dropna().head()\n",
    "    print(tmp)"
   ]
  },
  {
   "cell_type": "markdown",
   "id": "c727e7cd",
   "metadata": {},
   "source": [
    "### Most volatile instances"
   ]
  },
  {
   "cell_type": "code",
   "execution_count": null,
   "id": "70b4cba6",
   "metadata": {
    "ExecuteTime": {
     "end_time": "2021-09-15T17:43:49.643394Z",
     "start_time": "2021-09-15T17:43:49.605187Z"
    }
   },
   "outputs": [],
   "source": [
    "# Now getting the most volatile instances\n",
    "most_volatiles = pvt.count().sort_values(ascending=False).nlargest(10)\n",
    "most_volatiles"
   ]
  },
  {
   "cell_type": "code",
   "execution_count": null,
   "id": "29f4a6ef",
   "metadata": {
    "ExecuteTime": {
     "end_time": "2021-09-15T17:43:50.079730Z",
     "start_time": "2021-09-15T17:43:49.645112Z"
    }
   },
   "outputs": [],
   "source": [
    "# Let's quickly plot to see the pricing trends\n",
    "# Some normalization is required:\n",
    "# 1. Remove rows with only NaN (not columns, otherwise it will remove all pricing!);\n",
    "# 2. There are gaps in the pricing. This happens because if there is no pricing\n",
    "# update, then there is not price capture. Thus, we can safely use backwards fill\n",
    "# to fill the missing values\n",
    "\n",
    "fig, ax = plt.subplots(figsize=(12, 6))\n",
    "\n",
    "pvt.loc[:, most_volatiles.index.to_list()]\\\n",
    "    .dropna(how='all', axis=0)\\\n",
    "    .fillna(method='bfill').plot(ax=ax)\n",
    "\n",
    "ax.set_title('Top 10 most volatile instances')\n",
    "ax.set_ylabel('Hourly Price (USD)')\n",
    "ax.legend(loc='lower center', ncol=5, bbox_to_anchor=(0.5, -0.35))"
   ]
  },
  {
   "cell_type": "markdown",
   "id": "e7573c26",
   "metadata": {},
   "source": [
    "### Least volatile instances"
   ]
  },
  {
   "cell_type": "code",
   "execution_count": null,
   "id": "dacdc812",
   "metadata": {
    "ExecuteTime": {
     "end_time": "2021-09-15T17:43:50.146195Z",
     "start_time": "2021-09-15T17:43:50.081592Z"
    }
   },
   "outputs": [],
   "source": [
    "# Now getting the least volatile instances\n",
    "least_volatiles = pvt.count().sort_values(ascending=False).nsmallest(10)\n",
    "least_volatiles"
   ]
  },
  {
   "cell_type": "code",
   "execution_count": null,
   "id": "e27386f3",
   "metadata": {
    "ExecuteTime": {
     "end_time": "2021-09-15T17:43:50.489164Z",
     "start_time": "2021-09-15T17:43:50.148114Z"
    }
   },
   "outputs": [],
   "source": [
    "fig, ax = plt.subplots(figsize=(12, 6))\n",
    "\n",
    "pvt.loc[:, least_volatiles.index.to_list()]\\\n",
    "    .dropna(how='all', axis=0)\\\n",
    "    .fillna(method='bfill').plot(ax=ax)\n",
    "\n",
    "ax.set_title('Top 10 least volatile instances')\n",
    "ax.set_ylabel('Hourly Price (USD)')\n",
    "ax.legend(loc='lower center', ncol=5, bbox_to_anchor=(0.5, -0.35))"
   ]
  },
  {
   "cell_type": "code",
   "execution_count": null,
   "id": "19466fa0",
   "metadata": {},
   "outputs": [],
   "source": []
  }
 ],
 "metadata": {
  "kernelspec": {
   "display_name": "Python 3",
   "language": "python",
   "name": "python3"
  },
  "language_info": {
   "codemirror_mode": {
    "name": "ipython",
    "version": 3
   },
   "file_extension": ".py",
   "mimetype": "text/x-python",
   "name": "python",
   "nbconvert_exporter": "python",
   "pygments_lexer": "ipython3",
   "version": "3.7.10"
  },
  "toc": {
   "base_numbering": 1,
   "nav_menu": {},
   "number_sections": true,
   "sideBar": true,
   "skip_h1_title": false,
   "title_cell": "Table of Contents",
   "title_sidebar": "Contents",
   "toc_cell": false,
   "toc_position": {},
   "toc_section_display": true,
   "toc_window_display": false
  }
 },
 "nbformat": 4,
 "nbformat_minor": 5
}
