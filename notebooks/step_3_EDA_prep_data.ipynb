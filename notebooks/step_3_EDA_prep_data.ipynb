{
 "cells": [
  {
   "cell_type": "markdown",
   "id": "009a8def",
   "metadata": {},
   "source": [
    "# Objective\n",
    "\n",
    "Perform the exploratory data analysis (EDA) to find insights in the AWS pricing data"
   ]
  },
  {
   "cell_type": "markdown",
   "id": "9606864a",
   "metadata": {},
   "source": [
    "# Code"
   ]
  },
  {
   "cell_type": "markdown",
   "id": "c094d0aa",
   "metadata": {},
   "source": [
    "## Load libs"
   ]
  },
  {
   "cell_type": "code",
   "execution_count": 1,
   "id": "0daa8223",
   "metadata": {
    "ExecuteTime": {
     "end_time": "2021-09-15T17:43:46.262977Z",
     "start_time": "2021-09-15T17:43:45.176872Z"
    }
   },
   "outputs": [],
   "source": [
    "import sys\n",
    "sys.path.append('..')\n",
    "\n",
    "import random\n",
    "import pandas as pd\n",
    "import matplotlib.pyplot as plt\n",
    "%matplotlib inline\n",
    "\n",
    "from src.data.helpers import load_aws_dataset"
   ]
  },
  {
   "cell_type": "markdown",
   "id": "9c7870f3",
   "metadata": {},
   "source": [
    "## Input params"
   ]
  },
  {
   "cell_type": "code",
   "execution_count": 2,
   "id": "54aa9978",
   "metadata": {
    "ExecuteTime": {
     "end_time": "2021-09-15T17:43:46.267074Z",
     "start_time": "2021-09-15T17:43:46.265032Z"
    }
   },
   "outputs": [],
   "source": [
    "interim_dir = '../data/interim'\n",
    "in_fname = 'step_1_aws_filtered_sample.csv.zip'\n",
    "compression = 'zip'"
   ]
  },
  {
   "cell_type": "code",
   "execution_count": 3,
   "id": "7d5499e5",
   "metadata": {
    "ExecuteTime": {
     "end_time": "2021-09-15T17:43:46.270631Z",
     "start_time": "2021-09-15T17:43:46.268617Z"
    },
    "tags": [
     "parameters"
    ]
   },
   "outputs": [],
   "source": [
    "# Papermill parameters injection ... do not delete!"
   ]
  },
  {
   "cell_type": "markdown",
   "id": "bd3ee93a",
   "metadata": {},
   "source": [
    "## Load data"
   ]
  },
  {
   "cell_type": "code",
   "execution_count": 4,
   "id": "41bc52e2",
   "metadata": {
    "ExecuteTime": {
     "end_time": "2021-09-15T17:43:48.926189Z",
     "start_time": "2021-09-15T17:43:46.272242Z"
    }
   },
   "outputs": [
    {
     "name": "stdout",
     "output_type": "stream",
     "text": [
      "(1666418, 4)\n"
     ]
    },
    {
     "name": "stderr",
     "output_type": "stream",
     "text": [
      "/Users/walterwong/opt/anaconda3/lib/python3.7/site-packages/numpy/lib/arraysetops.py:583: FutureWarning: elementwise comparison failed; returning scalar instead, but in the future will perform elementwise comparison\n",
      "  mask |= (ar1 == a)\n"
     ]
    },
    {
     "data": {
      "text/html": [
       "<div>\n",
       "<style scoped>\n",
       "    .dataframe tbody tr th:only-of-type {\n",
       "        vertical-align: middle;\n",
       "    }\n",
       "\n",
       "    .dataframe tbody tr th {\n",
       "        vertical-align: top;\n",
       "    }\n",
       "\n",
       "    .dataframe thead th {\n",
       "        text-align: right;\n",
       "    }\n",
       "</style>\n",
       "<table border=\"1\" class=\"dataframe\">\n",
       "  <thead>\n",
       "    <tr style=\"text-align: right;\">\n",
       "      <th></th>\n",
       "      <th>Timestamp</th>\n",
       "      <th>AvailabilityZone</th>\n",
       "      <th>InstanceType</th>\n",
       "      <th>SpotPrice</th>\n",
       "    </tr>\n",
       "  </thead>\n",
       "  <tbody>\n",
       "    <tr>\n",
       "      <th>0</th>\n",
       "      <td>2020-06-01 00:00:04</td>\n",
       "      <td>us-east-1f</td>\n",
       "      <td>r5d.large</td>\n",
       "      <td>0.0356</td>\n",
       "    </tr>\n",
       "    <tr>\n",
       "      <th>1</th>\n",
       "      <td>2020-06-01 00:00:04</td>\n",
       "      <td>us-east-1c</td>\n",
       "      <td>r5d.large</td>\n",
       "      <td>0.0356</td>\n",
       "    </tr>\n",
       "    <tr>\n",
       "      <th>2</th>\n",
       "      <td>2020-06-01 00:00:04</td>\n",
       "      <td>us-east-1d</td>\n",
       "      <td>r5d.large</td>\n",
       "      <td>0.0356</td>\n",
       "    </tr>\n",
       "    <tr>\n",
       "      <th>3</th>\n",
       "      <td>2020-06-01 00:00:04</td>\n",
       "      <td>us-east-1b</td>\n",
       "      <td>r5d.large</td>\n",
       "      <td>0.0356</td>\n",
       "    </tr>\n",
       "    <tr>\n",
       "      <th>4</th>\n",
       "      <td>2020-06-01 00:00:50</td>\n",
       "      <td>us-west-2c</td>\n",
       "      <td>r5.2xlarge</td>\n",
       "      <td>0.1560</td>\n",
       "    </tr>\n",
       "  </tbody>\n",
       "</table>\n",
       "</div>"
      ],
      "text/plain": [
       "            Timestamp AvailabilityZone InstanceType  SpotPrice\n",
       "0 2020-06-01 00:00:04       us-east-1f    r5d.large     0.0356\n",
       "1 2020-06-01 00:00:04       us-east-1c    r5d.large     0.0356\n",
       "2 2020-06-01 00:00:04       us-east-1d    r5d.large     0.0356\n",
       "3 2020-06-01 00:00:04       us-east-1b    r5d.large     0.0356\n",
       "4 2020-06-01 00:00:50       us-west-2c   r5.2xlarge     0.1560"
      ]
     },
     "execution_count": 4,
     "metadata": {},
     "output_type": "execute_result"
    }
   ],
   "source": [
    "file = f'{interim_dir}/{in_fname}'\n",
    "data = load_aws_dataset(file)\n",
    "print(data.shape)\n",
    "data.head()"
   ]
  },
  {
   "cell_type": "markdown",
   "id": "83d27b3b",
   "metadata": {},
   "source": [
    "## Data wrangling\n",
    "\n",
    "Let's find something interesting in the data!\n",
    "- Look for most volatile instances, i.e., with more price changes, thus to avoid them;\n",
    "- Least volatile instances;\n",
    "- Longer price update times;"
   ]
  },
  {
   "cell_type": "markdown",
   "id": "eb2419ee",
   "metadata": {},
   "source": [
    "### Data check-up for nulls and missing values\n",
    "\n",
    "Assumptions:\n",
    "\n",
    "- Considered region: us-east-1a (Virginia);\n",
    "- Check presence of null columns (i.e., there is no price change on that);"
   ]
  },
  {
   "cell_type": "code",
   "execution_count": 5,
   "id": "ba53522d",
   "metadata": {
    "ExecuteTime": {
     "end_time": "2021-09-15T17:43:49.558670Z",
     "start_time": "2021-09-15T17:43:48.927696Z"
    }
   },
   "outputs": [
    {
     "name": "stdout",
     "output_type": "stream",
     "text": [
      "(58756, 3)\n",
      "CPU times: user 414 ms, sys: 193 ms, total: 608 ms\n",
      "Wall time: 609 ms\n"
     ]
    },
    {
     "data": {
      "text/html": [
       "<div>\n",
       "<style scoped>\n",
       "    .dataframe tbody tr th:only-of-type {\n",
       "        vertical-align: middle;\n",
       "    }\n",
       "\n",
       "    .dataframe tbody tr th {\n",
       "        vertical-align: top;\n",
       "    }\n",
       "\n",
       "    .dataframe thead th {\n",
       "        text-align: right;\n",
       "    }\n",
       "</style>\n",
       "<table border=\"1\" class=\"dataframe\">\n",
       "  <thead>\n",
       "    <tr style=\"text-align: right;\">\n",
       "      <th>InstanceType</th>\n",
       "      <th>a1.2xlarge</th>\n",
       "      <th>a1.4xlarge</th>\n",
       "      <th>a1.large</th>\n",
       "      <th>a1.medium</th>\n",
       "      <th>a1.metal</th>\n",
       "      <th>a1.xlarge</th>\n",
       "      <th>c1.medium</th>\n",
       "      <th>c1.xlarge</th>\n",
       "      <th>c3.2xlarge</th>\n",
       "      <th>c3.4xlarge</th>\n",
       "      <th>...</th>\n",
       "      <th>x1e.4xlarge</th>\n",
       "      <th>x1e.8xlarge</th>\n",
       "      <th>x1e.xlarge</th>\n",
       "      <th>z1d.12xlarge</th>\n",
       "      <th>z1d.2xlarge</th>\n",
       "      <th>z1d.3xlarge</th>\n",
       "      <th>z1d.6xlarge</th>\n",
       "      <th>z1d.large</th>\n",
       "      <th>z1d.metal</th>\n",
       "      <th>z1d.xlarge</th>\n",
       "    </tr>\n",
       "    <tr>\n",
       "      <th>Timestamp</th>\n",
       "      <th></th>\n",
       "      <th></th>\n",
       "      <th></th>\n",
       "      <th></th>\n",
       "      <th></th>\n",
       "      <th></th>\n",
       "      <th></th>\n",
       "      <th></th>\n",
       "      <th></th>\n",
       "      <th></th>\n",
       "      <th></th>\n",
       "      <th></th>\n",
       "      <th></th>\n",
       "      <th></th>\n",
       "      <th></th>\n",
       "      <th></th>\n",
       "      <th></th>\n",
       "      <th></th>\n",
       "      <th></th>\n",
       "      <th></th>\n",
       "      <th></th>\n",
       "    </tr>\n",
       "  </thead>\n",
       "  <tbody>\n",
       "    <tr>\n",
       "      <th>2020-06-01 00:05:28</th>\n",
       "      <td>NaN</td>\n",
       "      <td>NaN</td>\n",
       "      <td>NaN</td>\n",
       "      <td>NaN</td>\n",
       "      <td>NaN</td>\n",
       "      <td>NaN</td>\n",
       "      <td>NaN</td>\n",
       "      <td>NaN</td>\n",
       "      <td>NaN</td>\n",
       "      <td>NaN</td>\n",
       "      <td>...</td>\n",
       "      <td>NaN</td>\n",
       "      <td>NaN</td>\n",
       "      <td>NaN</td>\n",
       "      <td>NaN</td>\n",
       "      <td>NaN</td>\n",
       "      <td>NaN</td>\n",
       "      <td>NaN</td>\n",
       "      <td>NaN</td>\n",
       "      <td>NaN</td>\n",
       "      <td>NaN</td>\n",
       "    </tr>\n",
       "    <tr>\n",
       "      <th>2020-06-01 00:05:31</th>\n",
       "      <td>NaN</td>\n",
       "      <td>NaN</td>\n",
       "      <td>NaN</td>\n",
       "      <td>NaN</td>\n",
       "      <td>NaN</td>\n",
       "      <td>NaN</td>\n",
       "      <td>NaN</td>\n",
       "      <td>NaN</td>\n",
       "      <td>NaN</td>\n",
       "      <td>NaN</td>\n",
       "      <td>...</td>\n",
       "      <td>NaN</td>\n",
       "      <td>NaN</td>\n",
       "      <td>NaN</td>\n",
       "      <td>NaN</td>\n",
       "      <td>NaN</td>\n",
       "      <td>NaN</td>\n",
       "      <td>NaN</td>\n",
       "      <td>NaN</td>\n",
       "      <td>NaN</td>\n",
       "      <td>NaN</td>\n",
       "    </tr>\n",
       "    <tr>\n",
       "      <th>2020-06-01 00:06:06</th>\n",
       "      <td>NaN</td>\n",
       "      <td>NaN</td>\n",
       "      <td>NaN</td>\n",
       "      <td>NaN</td>\n",
       "      <td>NaN</td>\n",
       "      <td>NaN</td>\n",
       "      <td>NaN</td>\n",
       "      <td>NaN</td>\n",
       "      <td>NaN</td>\n",
       "      <td>NaN</td>\n",
       "      <td>...</td>\n",
       "      <td>NaN</td>\n",
       "      <td>NaN</td>\n",
       "      <td>NaN</td>\n",
       "      <td>NaN</td>\n",
       "      <td>NaN</td>\n",
       "      <td>NaN</td>\n",
       "      <td>NaN</td>\n",
       "      <td>NaN</td>\n",
       "      <td>NaN</td>\n",
       "      <td>NaN</td>\n",
       "    </tr>\n",
       "    <tr>\n",
       "      <th>2020-06-01 00:13:29</th>\n",
       "      <td>NaN</td>\n",
       "      <td>NaN</td>\n",
       "      <td>NaN</td>\n",
       "      <td>NaN</td>\n",
       "      <td>NaN</td>\n",
       "      <td>NaN</td>\n",
       "      <td>NaN</td>\n",
       "      <td>NaN</td>\n",
       "      <td>NaN</td>\n",
       "      <td>NaN</td>\n",
       "      <td>...</td>\n",
       "      <td>NaN</td>\n",
       "      <td>NaN</td>\n",
       "      <td>NaN</td>\n",
       "      <td>NaN</td>\n",
       "      <td>NaN</td>\n",
       "      <td>NaN</td>\n",
       "      <td>NaN</td>\n",
       "      <td>NaN</td>\n",
       "      <td>NaN</td>\n",
       "      <td>NaN</td>\n",
       "    </tr>\n",
       "    <tr>\n",
       "      <th>2020-06-01 00:14:13</th>\n",
       "      <td>NaN</td>\n",
       "      <td>NaN</td>\n",
       "      <td>NaN</td>\n",
       "      <td>NaN</td>\n",
       "      <td>NaN</td>\n",
       "      <td>NaN</td>\n",
       "      <td>NaN</td>\n",
       "      <td>NaN</td>\n",
       "      <td>NaN</td>\n",
       "      <td>NaN</td>\n",
       "      <td>...</td>\n",
       "      <td>NaN</td>\n",
       "      <td>NaN</td>\n",
       "      <td>NaN</td>\n",
       "      <td>NaN</td>\n",
       "      <td>NaN</td>\n",
       "      <td>NaN</td>\n",
       "      <td>NaN</td>\n",
       "      <td>NaN</td>\n",
       "      <td>NaN</td>\n",
       "      <td>NaN</td>\n",
       "    </tr>\n",
       "  </tbody>\n",
       "</table>\n",
       "<p>5 rows × 331 columns</p>\n",
       "</div>"
      ],
      "text/plain": [
       "InstanceType         a1.2xlarge  a1.4xlarge  a1.large  a1.medium  a1.metal  \\\n",
       "Timestamp                                                                    \n",
       "2020-06-01 00:05:28         NaN         NaN       NaN        NaN       NaN   \n",
       "2020-06-01 00:05:31         NaN         NaN       NaN        NaN       NaN   \n",
       "2020-06-01 00:06:06         NaN         NaN       NaN        NaN       NaN   \n",
       "2020-06-01 00:13:29         NaN         NaN       NaN        NaN       NaN   \n",
       "2020-06-01 00:14:13         NaN         NaN       NaN        NaN       NaN   \n",
       "\n",
       "InstanceType         a1.xlarge  c1.medium  c1.xlarge  c3.2xlarge  c3.4xlarge  \\\n",
       "Timestamp                                                                      \n",
       "2020-06-01 00:05:28        NaN        NaN        NaN         NaN         NaN   \n",
       "2020-06-01 00:05:31        NaN        NaN        NaN         NaN         NaN   \n",
       "2020-06-01 00:06:06        NaN        NaN        NaN         NaN         NaN   \n",
       "2020-06-01 00:13:29        NaN        NaN        NaN         NaN         NaN   \n",
       "2020-06-01 00:14:13        NaN        NaN        NaN         NaN         NaN   \n",
       "\n",
       "InstanceType         ...  x1e.4xlarge  x1e.8xlarge  x1e.xlarge  z1d.12xlarge  \\\n",
       "Timestamp            ...                                                       \n",
       "2020-06-01 00:05:28  ...          NaN          NaN         NaN           NaN   \n",
       "2020-06-01 00:05:31  ...          NaN          NaN         NaN           NaN   \n",
       "2020-06-01 00:06:06  ...          NaN          NaN         NaN           NaN   \n",
       "2020-06-01 00:13:29  ...          NaN          NaN         NaN           NaN   \n",
       "2020-06-01 00:14:13  ...          NaN          NaN         NaN           NaN   \n",
       "\n",
       "InstanceType         z1d.2xlarge  z1d.3xlarge  z1d.6xlarge  z1d.large  \\\n",
       "Timestamp                                                               \n",
       "2020-06-01 00:05:28          NaN          NaN          NaN        NaN   \n",
       "2020-06-01 00:05:31          NaN          NaN          NaN        NaN   \n",
       "2020-06-01 00:06:06          NaN          NaN          NaN        NaN   \n",
       "2020-06-01 00:13:29          NaN          NaN          NaN        NaN   \n",
       "2020-06-01 00:14:13          NaN          NaN          NaN        NaN   \n",
       "\n",
       "InstanceType         z1d.metal  z1d.xlarge  \n",
       "Timestamp                                   \n",
       "2020-06-01 00:05:28        NaN         NaN  \n",
       "2020-06-01 00:05:31        NaN         NaN  \n",
       "2020-06-01 00:06:06        NaN         NaN  \n",
       "2020-06-01 00:13:29        NaN         NaN  \n",
       "2020-06-01 00:14:13        NaN         NaN  \n",
       "\n",
       "[5 rows x 331 columns]"
      ]
     },
     "execution_count": 5,
     "metadata": {},
     "output_type": "execute_result"
    }
   ],
   "source": [
    "%%time\n",
    "\n",
    "df = data.query('AvailabilityZone == \"us-east-1a\"')\\\n",
    "         .drop('AvailabilityZone', axis=1)\n",
    "\n",
    "print(df.shape)\n",
    "\n",
    "# Pivot table to change a wide format for the data. Thus, we can remove\n",
    "# instances that do not have any price update.\n",
    "# Dropping MultiIndex column 'SpotPrice' as there is no use for it.\n",
    "pvt = df.pivot_table(index=['Timestamp'], \n",
    "                     columns=['InstanceType'])\\\n",
    "        .droplevel(0, axis=1)\n",
    "\n",
    "pvt.head()"
   ]
  },
  {
   "cell_type": "code",
   "execution_count": 6,
   "id": "7b3b32d4",
   "metadata": {
    "ExecuteTime": {
     "end_time": "2021-09-15T17:43:49.584790Z",
     "start_time": "2021-09-15T17:43:49.560680Z"
    }
   },
   "outputs": [
    {
     "data": {
      "text/plain": [
       "Series([], dtype: bool)"
      ]
     },
     "execution_count": 6,
     "metadata": {},
     "output_type": "execute_result"
    }
   ],
   "source": [
    "# Checking if there is any column with only 'NaN'\n",
    "# Returns None, meaning that all \n",
    "pvt.isna().all(axis=0).loc[lambda x: x.isna()]"
   ]
  },
  {
   "cell_type": "code",
   "execution_count": 7,
   "id": "3a8846dc",
   "metadata": {
    "ExecuteTime": {
     "end_time": "2021-09-15T17:43:49.593399Z",
     "start_time": "2021-09-15T17:43:49.588323Z"
    }
   },
   "outputs": [
    {
     "data": {
      "text/plain": [
       "Timestamp\n",
       "2020-06-01 05:22:38    0.0671\n",
       "2020-06-02 05:23:04    0.0671\n",
       "2020-06-03 05:23:48    0.0671\n",
       "2020-06-04 05:24:13    0.0671\n",
       "2020-06-05 05:24:36    0.0671\n",
       "Name: a1.2xlarge, dtype: float64"
      ]
     },
     "execution_count": 7,
     "metadata": {},
     "output_type": "execute_result"
    }
   ],
   "source": [
    "# Cross-check to see if this is correct. Getting a sample of confirm this\n",
    "# using instance 'a1.2xlarge'\n",
    "pvt['a1.2xlarge'].dropna().head()"
   ]
  },
  {
   "cell_type": "code",
   "execution_count": 8,
   "id": "02557bb9",
   "metadata": {
    "ExecuteTime": {
     "end_time": "2021-09-15T17:43:49.603187Z",
     "start_time": "2021-09-15T17:43:49.595381Z"
    }
   },
   "outputs": [
    {
     "name": "stdout",
     "output_type": "stream",
     "text": [
      "InstanceType\n",
      "i3.16xlarge    1.4976\n",
      "Name: 2020-06-01 10:00:03, dtype: float64\n",
      "InstanceType\n",
      "m4.2xlarge    0.1587\n",
      "Name: 2020-06-01 11:07:56, dtype: float64\n",
      "InstanceType\n",
      "r5.2xlarge    0.1796\n",
      "Name: 2020-06-01 14:04:08, dtype: float64\n",
      "InstanceType\n",
      "m3.large    0.0308\n",
      "Name: 2020-06-01 13:56:20, dtype: float64\n",
      "InstanceType\n",
      "r5dn.24xlarge    2.5579\n",
      "r5dn.xlarge      0.0745\n",
      "Name: 2020-06-01 06:47:45, dtype: float64\n"
     ]
    }
   ],
   "source": [
    "# Picking random instance and checking if the values are not null\n",
    "# just for sanity check.\n",
    "for i in range(5):\n",
    "    rand_instance = random.randint(0, len(pvt.columns))\n",
    "    tmp = pvt.iloc[rand_instance].dropna().head()\n",
    "    print(tmp)"
   ]
  },
  {
   "cell_type": "markdown",
   "id": "c727e7cd",
   "metadata": {},
   "source": [
    "### Most volatile instances"
   ]
  },
  {
   "cell_type": "code",
   "execution_count": 9,
   "id": "70b4cba6",
   "metadata": {
    "ExecuteTime": {
     "end_time": "2021-09-15T17:43:49.643394Z",
     "start_time": "2021-09-15T17:43:49.605187Z"
    }
   },
   "outputs": [
    {
     "data": {
      "text/plain": [
       "InstanceType\n",
       "r5n.16xlarge     377\n",
       "r5.16xlarge      377\n",
       "m5.16xlarge      377\n",
       "r5.12xlarge      376\n",
       "g4dn.12xlarge    374\n",
       "m5a.4xlarge      374\n",
       "m5a.8xlarge      373\n",
       "m4.16xlarge      373\n",
       "r5a.8xlarge      372\n",
       "r5a.16xlarge     372\n",
       "dtype: int64"
      ]
     },
     "execution_count": 9,
     "metadata": {},
     "output_type": "execute_result"
    }
   ],
   "source": [
    "# Now getting the most volatile instances\n",
    "most_volatiles = pvt.count().sort_values(ascending=False).nlargest(10)\n",
    "most_volatiles"
   ]
  },
  {
   "cell_type": "code",
   "execution_count": 10,
   "id": "29f4a6ef",
   "metadata": {
    "ExecuteTime": {
     "end_time": "2021-09-15T17:43:50.079730Z",
     "start_time": "2021-09-15T17:43:49.645112Z"
    }
   },
   "outputs": [
    {
     "data": {
      "text/plain": [
       "<matplotlib.legend.Legend at 0x7fa7cefab710>"
      ]
     },
     "execution_count": 10,
     "metadata": {},
     "output_type": "execute_result"
    },
    {
     "data": {
      "image/png": "[encoded data removed]",
      "text/plain": [
       "<Figure size 864x432 with 1 Axes>"
      ]
     },
     "metadata": {
      "needs_background": "light"
     },
     "output_type": "display_data"
    }
   ],
   "source": [
    "# Let's quickly plot to see the pricing trends\n",
    "# Some normalization is required:\n",
    "# 1. Remove rows with only NaN (not columns, otherwise it will remove all pricing!);\n",
    "# 2. There are gaps in the pricing. This happens because if there is no pricing\n",
    "# update, then there is not price capture. Thus, we can safely use backwards fill\n",
    "# to fill the missing values\n",
    "\n",
    "fig, ax = plt.subplots(figsize=(12, 6))\n",
    "\n",
    "pvt.loc[:, most_volatiles.index.to_list()]\\\n",
    "    .dropna(how='all', axis=0)\\\n",
    "    .fillna(method='bfill').plot(ax=ax)\n",
    "\n",
    "ax.set_title('Top 10 most volatile instances')\n",
    "ax.set_ylabel('Hourly Price (USD)')\n",
    "ax.legend(loc='lower center', ncol=5, bbox_to_anchor=(0.5, -0.35))"
   ]
  },
  {
   "cell_type": "markdown",
   "id": "e7573c26",
   "metadata": {},
   "source": [
    "### Least volatile instances"
   ]
  },
  {
   "cell_type": "code",
   "execution_count": 11,
   "id": "dacdc812",
   "metadata": {
    "ExecuteTime": {
     "end_time": "2021-09-15T17:43:50.146195Z",
     "start_time": "2021-09-15T17:43:50.081592Z"
    }
   },
   "outputs": [
    {
     "data": {
      "text/plain": [
       "InstanceType\n",
       "c5ad.large       19\n",
       "c5ad.4xlarge     19\n",
       "c5ad.16xlarge    19\n",
       "c5ad.8xlarge     19\n",
       "c5ad.xlarge      20\n",
       "c5ad.12xlarge    20\n",
       "c5ad.24xlarge    20\n",
       "c5ad.2xlarge     22\n",
       "r5ad.8xlarge     23\n",
       "m5ad.16xlarge    23\n",
       "dtype: int64"
      ]
     },
     "execution_count": 11,
     "metadata": {},
     "output_type": "execute_result"
    }
   ],
   "source": [
    "# Now getting the least volatile instances\n",
    "least_volatiles = pvt.count().sort_values(ascending=False).nsmallest(10)\n",
    "least_volatiles"
   ]
  },
  {
   "cell_type": "code",
   "execution_count": 12,
   "id": "e27386f3",
   "metadata": {
    "ExecuteTime": {
     "end_time": "2021-09-15T17:43:50.489164Z",
     "start_time": "2021-09-15T17:43:50.148114Z"
    }
   },
   "outputs": [
    {
     "data": {
      "text/plain": [
       "<matplotlib.legend.Legend at 0x7fa7cc5a7c50>"
      ]
     },
     "execution_count": 12,
     "metadata": {},
     "output_type": "execute_result"
    },
    {
     "data": {
      "image/png": "[encoded data removed]",
      "text/plain": [
       "<Figure size 864x432 with 1 Axes>"
      ]
     },
     "metadata": {
      "needs_background": "light"
     },
     "output_type": "display_data"
    }
   ],
   "source": [
    "fig, ax = plt.subplots(figsize=(12, 6))\n",
    "\n",
    "pvt.loc[:, least_volatiles.index.to_list()]\\\n",
    "    .dropna(how='all', axis=0)\\\n",
    "    .fillna(method='bfill').plot(ax=ax)\n",
    "\n",
    "ax.set_title('Top 10 least volatile instances')\n",
    "ax.set_ylabel('Hourly Price (USD)')\n",
    "ax.legend(loc='lower center', ncol=5, bbox_to_anchor=(0.5, -0.35))"
   ]
  },
  {
   "cell_type": "code",
   "execution_count": null,
   "id": "19466fa0",
   "metadata": {},
   "outputs": [],
   "source": []
  }
 ],
 "metadata": {
  "celltoolbar": "Tags",
  "kernelspec": {
   "display_name": "Python 3",
   "language": "python",
   "name": "python3"
  },
  "language_info": {
   "codemirror_mode": {
    "name": "ipython",
    "version": 3
   },
   "file_extension": ".py",
   "mimetype": "text/x-python",
   "name": "python",
   "nbconvert_exporter": "python",
   "pygments_lexer": "ipython3",
   "version": "3.7.10"
  },
  "toc": {
   "base_numbering": 1,
   "nav_menu": {},
   "number_sections": true,
   "sideBar": true,
   "skip_h1_title": false,
   "title_cell": "Table of Contents",
   "title_sidebar": "Contents",
   "toc_cell": false,
   "toc_position": {},
   "toc_section_display": true,
   "toc_window_display": false
  }
 },
 "nbformat": 4,
 "nbformat_minor": 5
}
