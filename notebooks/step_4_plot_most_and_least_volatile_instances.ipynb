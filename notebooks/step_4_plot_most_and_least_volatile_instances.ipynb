{
 "cells": [
  {
   "cell_type": "markdown",
   "id": "009a8def",
   "metadata": {},
   "source": [
    "# Objective\n",
    "\n",
    "Generate report about the pricing analysis and place the figures in the `reports/figures` folder."
   ]
  },
  {
   "cell_type": "markdown",
   "id": "9606864a",
   "metadata": {},
   "source": [
    "# Code"
   ]
  },
  {
   "cell_type": "markdown",
   "id": "c094d0aa",
   "metadata": {},
   "source": [
    "## Load libs"
   ]
  },
  {
   "cell_type": "code",
   "execution_count": null,
   "id": "0daa8223",
   "metadata": {
    "ExecuteTime": {
     "end_time": "2021-09-15T17:52:52.025981Z",
     "start_time": "2021-09-15T17:52:52.022298Z"
    }
   },
   "outputs": [],
   "source": [
    "import sys\n",
    "sys.path.append('..')\n",
    "\n",
    "import random\n",
    "import pandas as pd\n",
    "import matplotlib.pyplot as plt\n",
    "%matplotlib inline\n",
    "\n",
    "from src.data.helpers import load_aws_dataset"
   ]
  },
  {
   "cell_type": "markdown",
   "id": "9c7870f3",
   "metadata": {},
   "source": [
    "## Input params"
   ]
  },
  {
   "cell_type": "code",
   "execution_count": null,
   "id": "54aa9978",
   "metadata": {
    "ExecuteTime": {
     "end_time": "2021-09-15T17:52:52.030048Z",
     "start_time": "2021-09-15T17:52:52.028037Z"
    }
   },
   "outputs": [],
   "source": [
    "interim_dir = '../data/interim'\n",
    "in_fname = 'step_1_aws_filtered_sample.csv.zip'\n",
    "compression = 'zip'\n",
    "report_dir = '../reports/figures/'"
   ]
  },
  {
   "cell_type": "code",
   "execution_count": null,
   "id": "f840100d",
   "metadata": {
    "ExecuteTime": {
     "end_time": "2021-09-15T17:52:52.033605Z",
     "start_time": "2021-09-15T17:52:52.031669Z"
    },
    "tags": [
     "parameters"
    ]
   },
   "outputs": [],
   "source": [
    "# Papermill parameters injection ... do not delete!"
   ]
  },
  {
   "cell_type": "markdown",
   "id": "bd3ee93a",
   "metadata": {},
   "source": [
    "## Load data"
   ]
  },
  {
   "cell_type": "code",
   "execution_count": null,
   "id": "41bc52e2",
   "metadata": {
    "ExecuteTime": {
     "end_time": "2021-09-15T17:52:54.719927Z",
     "start_time": "2021-09-15T17:52:52.035026Z"
    }
   },
   "outputs": [],
   "source": [
    "file = f'{interim_dir}/{in_fname}'\n",
    "data = load_aws_dataset(file)\n",
    "print(data.shape)\n",
    "data.head()"
   ]
  },
  {
   "cell_type": "markdown",
   "id": "83d27b3b",
   "metadata": {},
   "source": [
    "## Filter data\n",
    "\n",
    "Filter data only for `us-east-1a` at this moment."
   ]
  },
  {
   "cell_type": "code",
   "execution_count": null,
   "id": "ba53522d",
   "metadata": {
    "ExecuteTime": {
     "end_time": "2021-09-15T17:52:55.359742Z",
     "start_time": "2021-09-15T17:52:54.721476Z"
    }
   },
   "outputs": [],
   "source": [
    "%%time\n",
    "\n",
    "df = data.query('AvailabilityZone == \"us-east-1a\"')\\\n",
    "         .drop('AvailabilityZone', axis=1)\n",
    "\n",
    "print(df.shape)\n",
    "\n",
    "# Pivot table to change a wide format for the data. Thus, we can remove\n",
    "# instances that do not have any price update.\n",
    "# Dropping MultiIndex column 'SpotPrice' as there is no use for it.\n",
    "pvt = df.pivot_table(index=['Timestamp'], \n",
    "                     columns=['InstanceType'])\\\n",
    "        .droplevel(0, axis=1)\n",
    "\n",
    "pvt.head()"
   ]
  },
  {
   "cell_type": "markdown",
   "id": "8c8d1616",
   "metadata": {},
   "source": [
    "## Plotting"
   ]
  },
  {
   "cell_type": "markdown",
   "id": "c727e7cd",
   "metadata": {},
   "source": [
    "### Most volatile instances\n",
    "\n",
    "Conclusion: these are the instances with more price changes, meaning that the user has more risk of losing them due to eviction based on price updates."
   ]
  },
  {
   "cell_type": "code",
   "execution_count": null,
   "id": "70b4cba6",
   "metadata": {
    "ExecuteTime": {
     "end_time": "2021-09-15T17:52:56.209364Z",
     "start_time": "2021-09-15T17:52:55.361494Z"
    }
   },
   "outputs": [],
   "source": [
    "most_volatiles = pvt.count().sort_values(ascending=False).nlargest(10)\n",
    "fig, ax = plt.subplots(figsize=(12, 6))\n",
    "\n",
    "pvt.loc[:, most_volatiles.index.to_list()]\\\n",
    "    .dropna(how='all', axis=0)\\\n",
    "    .fillna(method='bfill').plot(ax=ax)\n",
    "\n",
    "ax.set_title('Top 10 most volatile instances')\n",
    "ax.set_ylabel('Hourly Price (USD)')\n",
    "ax.legend(loc='lower center', ncol=5, bbox_to_anchor=(0.5, -0.35))\n",
    "\n",
    "plt.tight_layout()\n",
    "plt.savefig(f'{report_dir}/plot_step_4_most_volatile_instances.png', dpi=300)"
   ]
  },
  {
   "cell_type": "markdown",
   "id": "e7573c26",
   "metadata": {},
   "source": [
    "### Least volatile instances\n",
    "\n",
    "Conclusion: the least volatile instances simply don't have price change, which means they are a good pick to be used as spot instances"
   ]
  },
  {
   "cell_type": "code",
   "execution_count": null,
   "id": "dacdc812",
   "metadata": {
    "ExecuteTime": {
     "end_time": "2021-09-15T17:52:56.967189Z",
     "start_time": "2021-09-15T17:52:56.212656Z"
    }
   },
   "outputs": [],
   "source": [
    "# Now getting the least volatile instances\n",
    "least_volatiles = pvt.count().sort_values(ascending=False).nsmallest(10)\n",
    "\n",
    "fig, ax = plt.subplots(figsize=(12, 6))\n",
    "\n",
    "pvt.loc[:, least_volatiles.index.to_list()]\\\n",
    "    .dropna(how='all', axis=0)\\\n",
    "    .fillna(method='bfill').plot(ax=ax)\n",
    "\n",
    "ax.set_title('Top 10 least volatile instances')\n",
    "ax.set_ylabel('Hourly Price (USD)')\n",
    "ax.legend(loc='lower center', ncol=5, bbox_to_anchor=(0.5, -0.35))\n",
    "\n",
    "plt.tight_layout()\n",
    "plt.savefig(f'{report_dir}/plot_step_4_least_volatile_instances.png', dpi=300)"
   ]
  },
  {
   "cell_type": "code",
   "execution_count": null,
   "id": "19466fa0",
   "metadata": {},
   "outputs": [],
   "source": []
  }
 ],
 "metadata": {
  "kernelspec": {
   "display_name": "Python 3",
   "language": "python",
   "name": "python3"
  },
  "language_info": {
   "codemirror_mode": {
    "name": "ipython",
    "version": 3
   },
   "file_extension": ".py",
   "mimetype": "text/x-python",
   "name": "python",
   "nbconvert_exporter": "python",
   "pygments_lexer": "ipython3",
   "version": "3.7.10"
  },
  "toc": {
   "base_numbering": 1,
   "nav_menu": {},
   "number_sections": true,
   "sideBar": true,
   "skip_h1_title": false,
   "title_cell": "Table of Contents",
   "title_sidebar": "Contents",
   "toc_cell": false,
   "toc_position": {},
   "toc_section_display": true,
   "toc_window_display": false
  }
 },
 "nbformat": 4,
 "nbformat_minor": 5
}
