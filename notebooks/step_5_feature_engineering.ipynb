{
 "cells": [
  {
   "cell_type": "markdown",
   "id": "009a8def",
   "metadata": {},
   "source": [
    "# Objective\n",
    "\n",
    "Generate features for machine learning algorithms. The goal is to use unsupervised machine learning algorithms to cluster similar instances together, e.g., highly volatile instances, and/or cheaper least volatile instances.\n",
    "\n",
    "This will help us in the migration between spot instances, i.e., if we need to move from one spot instance that is going to expire, which should be the next of where we should go next."
   ]
  },
  {
   "cell_type": "markdown",
   "id": "9606864a",
   "metadata": {},
   "source": [
    "# Code"
   ]
  },
  {
   "cell_type": "markdown",
   "id": "c094d0aa",
   "metadata": {},
   "source": [
    "## Load libs"
   ]
  },
  {
   "cell_type": "code",
   "execution_count": null,
   "id": "0daa8223",
   "metadata": {
    "ExecuteTime": {
     "end_time": "2021-09-15T18:31:42.760455Z",
     "start_time": "2021-09-15T18:31:42.011514Z"
    }
   },
   "outputs": [],
   "source": [
    "%load_ext autoreload\n",
    "%autoreload 2\n",
    "\n",
    "import sys\n",
    "sys.path.append('..')\n",
    "\n",
    "import random\n",
    "import pandas as pd\n",
    "import matplotlib.pyplot as plt\n",
    "%matplotlib inline\n",
    "\n",
    "from src.data.helpers import load_aws_dataset\n",
    "from src.data.helpers import remove_consecutive_repeated_price_entries\n",
    "from src.data.helpers import calc_pdf_price_update_interval_seconds\n",
    "from src.data.helpers import generate_price_update_interval"
   ]
  },
  {
   "cell_type": "markdown",
   "id": "9c7870f3",
   "metadata": {},
   "source": [
    "## Input params"
   ]
  },
  {
   "cell_type": "code",
   "execution_count": null,
   "id": "54aa9978",
   "metadata": {
    "ExecuteTime": {
     "end_time": "2021-09-15T18:31:42.782053Z",
     "start_time": "2021-09-15T18:31:42.763116Z"
    }
   },
   "outputs": [],
   "source": [
    "compression = 'zip'\n",
    "\n",
    "interim_dir = '../data/interim'\n",
    "in_fname = 'step_1_aws_filtered_sample.csv.zip'\n",
    "\n",
    "processed_dir = '../data/processed'\n",
    "processed_out_fname_pricing = 'step_5_features_pricing_var.csv.zip'\n",
    "processed_out_fname_updist = 'step_5_features_updist.csv.zip'"
   ]
  },
  {
   "cell_type": "code",
   "execution_count": null,
   "id": "4710b853",
   "metadata": {
    "ExecuteTime": {
     "end_time": "2021-09-15T18:32:24.894131Z",
     "start_time": "2021-09-15T18:32:24.868705Z"
    },
    "tags": [
     "parameters"
    ]
   },
   "outputs": [],
   "source": [
    "# Papermill parameters injection ... do not delete!"
   ]
  },
  {
   "cell_type": "markdown",
   "id": "bd3ee93a",
   "metadata": {},
   "source": [
    "## Load data"
   ]
  },
  {
   "cell_type": "code",
   "execution_count": null,
   "id": "41bc52e2",
   "metadata": {
    "ExecuteTime": {
     "end_time": "2021-09-15T18:31:45.144788Z",
     "start_time": "2021-09-15T18:31:42.783583Z"
    }
   },
   "outputs": [],
   "source": [
    "file = f'{interim_dir}/{in_fname}'\n",
    "data = load_aws_dataset(file)\n",
    "print(data.shape)\n",
    "data.head()"
   ]
  },
  {
   "cell_type": "markdown",
   "id": "a1a8c5e4",
   "metadata": {},
   "source": [
    "### Pivot table to wide format\n",
    "\n",
    "Wide format allows to have a price column for each instance"
   ]
  },
  {
   "cell_type": "code",
   "execution_count": null,
   "id": "ba53522d",
   "metadata": {
    "ExecuteTime": {
     "end_time": "2021-09-15T18:31:45.729166Z",
     "start_time": "2021-09-15T18:31:45.146299Z"
    }
   },
   "outputs": [],
   "source": [
    "%%time\n",
    "\n",
    "df = data.query('AvailabilityZone == \"us-east-1a\"')\\\n",
    "         .drop('AvailabilityZone', axis=1)\n",
    "\n",
    "print(df.shape)\n",
    "\n",
    "# Pivot table to change a wide format for the data. Thus, we can remove\n",
    "# instances that do not have any price update.\n",
    "# Dropping MultiIndex column 'SpotPrice' as there is no use for it.\n",
    "pvt = df.pivot_table(index=['Timestamp'], \n",
    "                     columns=['InstanceType'])\\\n",
    "        .droplevel(0, axis=1)\n",
    "\n",
    "pvt.head()"
   ]
  },
  {
   "cell_type": "markdown",
   "id": "83d27b3b",
   "metadata": {},
   "source": [
    "## Feature Engineering\n",
    "\n",
    "As features, we will extract the following:\n",
    "1. Price variation function: extract the probabilistic density function (pdf) of price variation;\n",
    "2. Volatility curve: this represents the  pdf of the number of price changes for a given instance;\n",
    "3. Price update interval curve: represents the pdf of price update interval\n",
    "\n",
    "We will use these three pdfs to cluster our instances together."
   ]
  },
  {
   "cell_type": "markdown",
   "id": "289c8677",
   "metadata": {},
   "source": [
    "### Price variation (PDF)"
   ]
  },
  {
   "cell_type": "code",
   "execution_count": null,
   "id": "55b0e37d",
   "metadata": {
    "ExecuteTime": {
     "end_time": "2021-09-15T18:31:45.870963Z",
     "start_time": "2021-09-15T18:31:45.730638Z"
    }
   },
   "outputs": [],
   "source": [
    "var_list = [{'Instance': cname, 'price_var': cdf.dropna().var()} for cname, cdf in pvt.items()]\n",
    "var_df = pd.DataFrame(var_list).set_index('Instance').T\n",
    "var_df"
   ]
  },
  {
   "cell_type": "markdown",
   "id": "eb2419ee",
   "metadata": {},
   "source": [
    "### Volatility (PDF)\n",
    "\n"
   ]
  },
  {
   "cell_type": "code",
   "execution_count": null,
   "id": "19466fa0",
   "metadata": {
    "ExecuteTime": {
     "end_time": "2021-09-15T18:31:46.449828Z",
     "start_time": "2021-09-15T18:31:45.872756Z"
    }
   },
   "outputs": [],
   "source": [
    "# Iterate over each instance type, drop NaN and get the price distribution.\n",
    "volatility_list = [cdf.dropna().describe(include='all').to_frame() for _, cdf in pvt.items()]\n",
    "volatility_pdf = pd.concat(volatility_list, axis=1).round(3)\n",
    "volatility_pdf"
   ]
  },
  {
   "cell_type": "markdown",
   "id": "7a9ee9d3",
   "metadata": {},
   "source": [
    "### Merge Price and Volatility PDFs"
   ]
  },
  {
   "cell_type": "code",
   "execution_count": null,
   "id": "00840543",
   "metadata": {
    "ExecuteTime": {
     "end_time": "2021-09-15T18:31:46.541882Z",
     "start_time": "2021-09-15T18:31:46.453044Z"
    }
   },
   "outputs": [],
   "source": [
    "res_df = pd.concat([volatility_pdf, var_df], axis=0).round(3)\n",
    "res_df"
   ]
  },
  {
   "cell_type": "markdown",
   "id": "52017fa0",
   "metadata": {},
   "source": [
    "### Export to csv"
   ]
  },
  {
   "cell_type": "code",
   "execution_count": null,
   "id": "dcb20b06",
   "metadata": {
    "ExecuteTime": {
     "end_time": "2021-09-15T18:31:46.569240Z",
     "start_time": "2021-09-15T18:31:46.544188Z"
    }
   },
   "outputs": [],
   "source": [
    "res_df.to_csv(f'{processed_dir}/{processed_out_fname_pricing}', compression=compression)"
   ]
  },
  {
   "cell_type": "markdown",
   "id": "d3112bc3",
   "metadata": {
    "ExecuteTime": {
     "end_time": "2021-09-14T09:32:02.624411Z",
     "start_time": "2021-09-14T09:32:02.595387Z"
    }
   },
   "source": [
    "### Price Update Interval (PDF)"
   ]
  },
  {
   "cell_type": "code",
   "execution_count": null,
   "id": "17dc6eff",
   "metadata": {
    "ExecuteTime": {
     "end_time": "2021-09-15T18:31:47.703968Z",
     "start_time": "2021-09-15T18:31:46.570669Z"
    }
   },
   "outputs": [],
   "source": [
    "res_df = generate_price_update_interval(pvt)\n",
    "res_df"
   ]
  },
  {
   "cell_type": "markdown",
   "id": "7849bebc",
   "metadata": {},
   "source": [
    "### Export to csv"
   ]
  },
  {
   "cell_type": "code",
   "execution_count": null,
   "id": "a270e4e6",
   "metadata": {
    "ExecuteTime": {
     "end_time": "2021-09-15T18:31:47.730446Z",
     "start_time": "2021-09-15T18:31:47.706160Z"
    }
   },
   "outputs": [],
   "source": [
    "res_df.to_csv(f'{processed_dir}/{processed_out_fname_updist}', compression=compression)"
   ]
  },
  {
   "cell_type": "code",
   "execution_count": null,
   "id": "6b06ab5b",
   "metadata": {},
   "outputs": [],
   "source": []
  }
 ],
 "metadata": {
  "kernelspec": {
   "display_name": "Python 3",
   "language": "python",
   "name": "python3"
  },
  "language_info": {
   "codemirror_mode": {
    "name": "ipython",
    "version": 3
   },
   "file_extension": ".py",
   "mimetype": "text/x-python",
   "name": "python",
   "nbconvert_exporter": "python",
   "pygments_lexer": "ipython3",
   "version": "3.7.10"
  },
  "toc": {
   "base_numbering": 1,
   "nav_menu": {},
   "number_sections": true,
   "sideBar": true,
   "skip_h1_title": false,
   "title_cell": "Table of Contents",
   "title_sidebar": "Contents",
   "toc_cell": false,
   "toc_position": {},
   "toc_section_display": true,
   "toc_window_display": false
  }
 },
 "nbformat": 4,
 "nbformat_minor": 5
}
