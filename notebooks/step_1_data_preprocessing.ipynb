{
 "cells": [
  {
   "cell_type": "markdown",
   "id": "010a51c5",
   "metadata": {},
   "source": [
    "# Objective\n",
    "\n",
    "Execute data preprocessing for further analysis.\n",
    "\n",
    "1. We will analyze only Linux machines, thus, we can remove all other instances (e.g. Windows) in the pricing list.\n",
    "2. Filter out unnecessary columns, remove unnecessary timezones, convert to correct types."
   ]
  },
  {
   "cell_type": "markdown",
   "id": "ab2df853",
   "metadata": {},
   "source": [
    "# Code"
   ]
  },
  {
   "cell_type": "markdown",
   "id": "4d2264d7",
   "metadata": {},
   "source": [
    "## Load libs"
   ]
  },
  {
   "cell_type": "code",
   "execution_count": 1,
   "id": "ab587c01",
   "metadata": {
    "ExecuteTime": {
     "end_time": "2021-09-15T19:44:08.326771Z",
     "start_time": "2021-09-15T19:44:07.510907Z"
    }
   },
   "outputs": [],
   "source": [
    "import os\n",
    "import pandas as pd"
   ]
  },
  {
   "cell_type": "markdown",
   "id": "7f1b558f",
   "metadata": {},
   "source": [
    "## Input params\n",
    "\n",
    "This section is necessary if the notebook is run alone, i.e., without parameter injection, e.g., papermill."
   ]
  },
  {
   "cell_type": "code",
   "execution_count": 2,
   "id": "548d8e99",
   "metadata": {
    "ExecuteTime": {
     "end_time": "2021-09-15T12:28:46.682556Z",
     "start_time": "2021-09-15T12:28:46.680173Z"
    }
   },
   "outputs": [],
   "source": [
    "compression = 'zip'\n",
    "\n",
    "raw_dir = '../data/raw'\n",
    "in_fname = 'aws_pricing_sample.csv.zip'\n",
    "\n",
    "interim_dir = '../data/interim'\n",
    "out_fname = 'step_1_aws_filtered_sample.csv.zip'"
   ]
  },
  {
   "cell_type": "code",
   "execution_count": 3,
   "id": "89344139",
   "metadata": {
    "ExecuteTime": {
     "end_time": "2021-09-15T12:28:46.685941Z",
     "start_time": "2021-09-15T12:28:46.684083Z"
    },
    "tags": [
     "parameters"
    ]
   },
   "outputs": [],
   "source": [
    "# Papermill parameters injection ... do not delete!"
   ]
  },
  {
   "cell_type": "markdown",
   "id": "b81c3017",
   "metadata": {},
   "source": [
    "## Load data\n",
    "\n",
    "- Check for data type: `Timestamp` needs to be loaded as datetime for future filtering"
   ]
  },
  {
   "cell_type": "code",
   "execution_count": 4,
   "id": "67ae33f2",
   "metadata": {
    "ExecuteTime": {
     "end_time": "2021-09-15T12:29:08.285134Z",
     "start_time": "2021-09-15T12:28:46.687586Z"
    }
   },
   "outputs": [
    {
     "name": "stderr",
     "output_type": "stream",
     "text": [
      "/Users/walterwong/opt/anaconda3/lib/python3.7/site-packages/numpy/lib/arraysetops.py:583: FutureWarning: elementwise comparison failed; returning scalar instead, but in the future will perform elementwise comparison\n",
      "  mask |= (ar1 == a)\n"
     ]
    },
    {
     "name": "stdout",
     "output_type": "stream",
     "text": [
      "Timestamp             datetime64[ns, UTC]\n",
      "AvailabilityZone                   object\n",
      "InstanceType                       object\n",
      "ProductDescription                 object\n",
      "SpotPrice                         float64\n",
      "dtype: object\n",
      "(6033671, 5)\n"
     ]
    },
    {
     "data": {
      "text/html": [
       "<div>\n",
       "<style scoped>\n",
       "    .dataframe tbody tr th:only-of-type {\n",
       "        vertical-align: middle;\n",
       "    }\n",
       "\n",
       "    .dataframe tbody tr th {\n",
       "        vertical-align: top;\n",
       "    }\n",
       "\n",
       "    .dataframe thead th {\n",
       "        text-align: right;\n",
       "    }\n",
       "</style>\n",
       "<table border=\"1\" class=\"dataframe\">\n",
       "  <thead>\n",
       "    <tr style=\"text-align: right;\">\n",
       "      <th></th>\n",
       "      <th>Timestamp</th>\n",
       "      <th>AvailabilityZone</th>\n",
       "      <th>InstanceType</th>\n",
       "      <th>ProductDescription</th>\n",
       "      <th>SpotPrice</th>\n",
       "    </tr>\n",
       "  </thead>\n",
       "  <tbody>\n",
       "    <tr>\n",
       "      <th>0</th>\n",
       "      <td>2020-08-31 23:59:59+00:00</td>\n",
       "      <td>us-east-1c</td>\n",
       "      <td>r5dn.12xlarge</td>\n",
       "      <td>Linux/UNIX</td>\n",
       "      <td>0.9618</td>\n",
       "    </tr>\n",
       "    <tr>\n",
       "      <th>1</th>\n",
       "      <td>2020-08-31 23:59:59+00:00</td>\n",
       "      <td>us-east-1c</td>\n",
       "      <td>r5dn.12xlarge</td>\n",
       "      <td>Red Hat Enterprise Linux</td>\n",
       "      <td>1.0918</td>\n",
       "    </tr>\n",
       "    <tr>\n",
       "      <th>2</th>\n",
       "      <td>2020-08-31 23:59:59+00:00</td>\n",
       "      <td>us-east-1c</td>\n",
       "      <td>r5dn.12xlarge</td>\n",
       "      <td>SUSE Linux</td>\n",
       "      <td>1.1118</td>\n",
       "    </tr>\n",
       "    <tr>\n",
       "      <th>3</th>\n",
       "      <td>2020-08-31 23:59:58+00:00</td>\n",
       "      <td>ap-northeast-2a</td>\n",
       "      <td>m4.2xlarge</td>\n",
       "      <td>Linux/UNIX</td>\n",
       "      <td>0.1199</td>\n",
       "    </tr>\n",
       "    <tr>\n",
       "      <th>4</th>\n",
       "      <td>2020-08-31 23:59:58+00:00</td>\n",
       "      <td>ap-northeast-2c</td>\n",
       "      <td>m4.2xlarge</td>\n",
       "      <td>Linux/UNIX</td>\n",
       "      <td>0.1199</td>\n",
       "    </tr>\n",
       "  </tbody>\n",
       "</table>\n",
       "</div>"
      ],
      "text/plain": [
       "                  Timestamp AvailabilityZone   InstanceType  \\\n",
       "0 2020-08-31 23:59:59+00:00       us-east-1c  r5dn.12xlarge   \n",
       "1 2020-08-31 23:59:59+00:00       us-east-1c  r5dn.12xlarge   \n",
       "2 2020-08-31 23:59:59+00:00       us-east-1c  r5dn.12xlarge   \n",
       "3 2020-08-31 23:59:58+00:00  ap-northeast-2a     m4.2xlarge   \n",
       "4 2020-08-31 23:59:58+00:00  ap-northeast-2c     m4.2xlarge   \n",
       "\n",
       "         ProductDescription  SpotPrice  \n",
       "0                Linux/UNIX     0.9618  \n",
       "1  Red Hat Enterprise Linux     1.0918  \n",
       "2                SUSE Linux     1.1118  \n",
       "3                Linux/UNIX     0.1199  \n",
       "4                Linux/UNIX     0.1199  "
      ]
     },
     "execution_count": 4,
     "metadata": {},
     "output_type": "execute_result"
    }
   ],
   "source": [
    "# check if file exists\n",
    "filename = f'{raw_dir}/{in_fname}'\n",
    "\n",
    "if not os.path.exists(filename):\n",
    "    raise IOError(f'File \"{filename}\" not found error!')\n",
    "\n",
    "data = pd.read_csv(f'{raw_dir}/{in_fname}', \n",
    "                   parse_dates=['Timestamp'],\n",
    "                   compression=compression, \n",
    "                   index_col=0)\n",
    "\n",
    "print(data.dtypes)\n",
    "print(data.shape)\n",
    "data.head()"
   ]
  },
  {
   "cell_type": "markdown",
   "id": "00db4744",
   "metadata": {},
   "source": [
    "## Data Prep\n",
    "\n",
    "- filter only for `Linux/Unix` machines;\n",
    "- remove column `ProductDescription` as it will have one unique value;\n",
    "- order dataframe ascending (for timeline comparison later on);\n",
    "- remove timezone value from `Timestamp` as we won't use it here;\n",
    "- returning to a new variable to keep idempotency;"
   ]
  },
  {
   "cell_type": "code",
   "execution_count": 5,
   "id": "edd09f56",
   "metadata": {
    "ExecuteTime": {
     "end_time": "2021-09-15T12:29:08.701761Z",
     "start_time": "2021-09-15T12:29:08.286850Z"
    }
   },
   "outputs": [
    {
     "name": "stdout",
     "output_type": "stream",
     "text": [
      "(1666418, 4)\n"
     ]
    },
    {
     "data": {
      "text/html": [
       "<div>\n",
       "<style scoped>\n",
       "    .dataframe tbody tr th:only-of-type {\n",
       "        vertical-align: middle;\n",
       "    }\n",
       "\n",
       "    .dataframe tbody tr th {\n",
       "        vertical-align: top;\n",
       "    }\n",
       "\n",
       "    .dataframe thead th {\n",
       "        text-align: right;\n",
       "    }\n",
       "</style>\n",
       "<table border=\"1\" class=\"dataframe\">\n",
       "  <thead>\n",
       "    <tr style=\"text-align: right;\">\n",
       "      <th></th>\n",
       "      <th>Timestamp</th>\n",
       "      <th>AvailabilityZone</th>\n",
       "      <th>InstanceType</th>\n",
       "      <th>SpotPrice</th>\n",
       "    </tr>\n",
       "  </thead>\n",
       "  <tbody>\n",
       "    <tr>\n",
       "      <th>0</th>\n",
       "      <td>2020-06-01 00:00:04</td>\n",
       "      <td>us-east-1f</td>\n",
       "      <td>r5d.large</td>\n",
       "      <td>0.0356</td>\n",
       "    </tr>\n",
       "    <tr>\n",
       "      <th>1</th>\n",
       "      <td>2020-06-01 00:00:04</td>\n",
       "      <td>us-east-1c</td>\n",
       "      <td>r5d.large</td>\n",
       "      <td>0.0356</td>\n",
       "    </tr>\n",
       "    <tr>\n",
       "      <th>2</th>\n",
       "      <td>2020-06-01 00:00:04</td>\n",
       "      <td>us-east-1d</td>\n",
       "      <td>r5d.large</td>\n",
       "      <td>0.0356</td>\n",
       "    </tr>\n",
       "    <tr>\n",
       "      <th>3</th>\n",
       "      <td>2020-06-01 00:00:04</td>\n",
       "      <td>us-east-1b</td>\n",
       "      <td>r5d.large</td>\n",
       "      <td>0.0356</td>\n",
       "    </tr>\n",
       "    <tr>\n",
       "      <th>4</th>\n",
       "      <td>2020-06-01 00:00:50</td>\n",
       "      <td>us-west-2c</td>\n",
       "      <td>r5.2xlarge</td>\n",
       "      <td>0.1560</td>\n",
       "    </tr>\n",
       "  </tbody>\n",
       "</table>\n",
       "</div>"
      ],
      "text/plain": [
       "            Timestamp AvailabilityZone InstanceType  SpotPrice\n",
       "0 2020-06-01 00:00:04       us-east-1f    r5d.large     0.0356\n",
       "1 2020-06-01 00:00:04       us-east-1c    r5d.large     0.0356\n",
       "2 2020-06-01 00:00:04       us-east-1d    r5d.large     0.0356\n",
       "3 2020-06-01 00:00:04       us-east-1b    r5d.large     0.0356\n",
       "4 2020-06-01 00:00:50       us-west-2c   r5.2xlarge     0.1560"
      ]
     },
     "execution_count": 5,
     "metadata": {},
     "output_type": "execute_result"
    }
   ],
   "source": [
    "df = data.query('ProductDescription == \"Linux/UNIX\"')\\\n",
    "         .drop('ProductDescription', axis=1)\\\n",
    "         .sort_values(by='Timestamp', ascending=True)\\\n",
    "         .reset_index(drop=True)\n",
    "\n",
    "df['Timestamp'] = df['Timestamp'].dt.tz_localize(None)\n",
    "print(df.shape)\n",
    "df.head()"
   ]
  },
  {
   "cell_type": "markdown",
   "id": "753bbd3c",
   "metadata": {
    "ExecuteTime": {
     "end_time": "2021-09-13T11:25:04.138103Z",
     "start_time": "2021-09-13T11:25:04.131095Z"
    }
   },
   "source": [
    "## Create output file\n",
    "\n",
    "Save parsed file in folder `interim`."
   ]
  },
  {
   "cell_type": "code",
   "execution_count": 6,
   "id": "b2f238e2",
   "metadata": {
    "ExecuteTime": {
     "end_time": "2021-09-15T12:29:17.407888Z",
     "start_time": "2021-09-15T12:29:08.703557Z"
    }
   },
   "outputs": [],
   "source": [
    "df.to_csv(f'{interim_dir}/{out_fname}', \n",
    "          compression=compression)"
   ]
  },
  {
   "cell_type": "code",
   "execution_count": null,
   "id": "699cdebb",
   "metadata": {},
   "outputs": [],
   "source": []
  }
 ],
 "metadata": {
  "kernelspec": {
   "display_name": "Python 3",
   "language": "python",
   "name": "python3"
  },
  "language_info": {
   "codemirror_mode": {
    "name": "ipython",
    "version": 3
   },
   "file_extension": ".py",
   "mimetype": "text/x-python",
   "name": "python",
   "nbconvert_exporter": "python",
   "pygments_lexer": "ipython3",
   "version": "3.7.10"
  },
  "toc": {
   "base_numbering": 1,
   "nav_menu": {},
   "number_sections": true,
   "sideBar": true,
   "skip_h1_title": false,
   "title_cell": "Table of Contents",
   "title_sidebar": "Contents",
   "toc_cell": false,
   "toc_position": {},
   "toc_section_display": true,
   "toc_window_display": false
  }
 },
 "nbformat": 4,
 "nbformat_minor": 5
}
